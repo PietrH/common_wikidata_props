{
  "nbformat": 4,
  "nbformat_minor": 0,
  "metadata": {
    "colab": {
      "name": "get_wikidata_botanical_collector_properties.ipynb",
      "provenance": [],
      "collapsed_sections": [],
      "authorship_tag": "ABX9TyMNuZthdfkk439QBhvL3ssP",
      "include_colab_link": true
    },
    "kernelspec": {
      "name": "python3",
      "display_name": "Python 3"
    },
    "language_info": {
      "name": "python"
    }
  },
  "cells": [
    {
      "cell_type": "markdown",
      "metadata": {
        "id": "view-in-github",
        "colab_type": "text"
      },
      "source": [
        "<a href=\"https://colab.research.google.com/github/PietrH/common_wikidata_props/blob/main/get_wikidata_botanical_collector_properties.ipynb\" target=\"_parent\"><img src=\"https://colab.research.google.com/assets/colab-badge.svg\" alt=\"Open In Colab\"/></a>"
      ]
    },
    {
      "cell_type": "code",
      "source": [
        "!pip install sparqlwrapper\n",
        "!pip install wikidata\n",
        "# https://rdflib.github.io/sparqlwrapper/"
      ],
      "metadata": {
        "colab": {
          "base_uri": "https://localhost:8080/"
        },
        "id": "oTHM-rMM1RAh",
        "outputId": "b603326e-b388-4082-ec7a-7f3c7d048baf"
      },
      "execution_count": 1,
      "outputs": [
        {
          "output_type": "stream",
          "name": "stdout",
          "text": [
            "Collecting sparqlwrapper\n",
            "  Downloading SPARQLWrapper-1.8.5-py3-none-any.whl (26 kB)\n",
            "Collecting rdflib>=4.0\n",
            "  Downloading rdflib-6.1.1-py3-none-any.whl (482 kB)\n",
            "\u001b[K     |████████████████████████████████| 482 kB 9.9 MB/s \n",
            "\u001b[?25hCollecting isodate\n",
            "  Downloading isodate-0.6.1-py2.py3-none-any.whl (41 kB)\n",
            "\u001b[K     |████████████████████████████████| 41 kB 606 kB/s \n",
            "\u001b[?25hRequirement already satisfied: pyparsing in /usr/local/lib/python3.7/dist-packages (from rdflib>=4.0->sparqlwrapper) (3.0.6)\n",
            "Requirement already satisfied: setuptools in /usr/local/lib/python3.7/dist-packages (from rdflib>=4.0->sparqlwrapper) (57.4.0)\n",
            "Requirement already satisfied: importlib-metadata in /usr/local/lib/python3.7/dist-packages (from rdflib>=4.0->sparqlwrapper) (4.8.2)\n",
            "Requirement already satisfied: zipp>=0.5 in /usr/local/lib/python3.7/dist-packages (from importlib-metadata->rdflib>=4.0->sparqlwrapper) (3.6.0)\n",
            "Requirement already satisfied: typing-extensions>=3.6.4 in /usr/local/lib/python3.7/dist-packages (from importlib-metadata->rdflib>=4.0->sparqlwrapper) (3.10.0.2)\n",
            "Requirement already satisfied: six in /usr/local/lib/python3.7/dist-packages (from isodate->rdflib>=4.0->sparqlwrapper) (1.15.0)\n",
            "Installing collected packages: isodate, rdflib, sparqlwrapper\n",
            "Successfully installed isodate-0.6.1 rdflib-6.1.1 sparqlwrapper-1.8.5\n",
            "Collecting wikidata\n",
            "  Downloading Wikidata-0.7.0-py3-none-any.whl (29 kB)\n",
            "Installing collected packages: wikidata\n",
            "Successfully installed wikidata-0.7.0\n"
          ]
        }
      ]
    },
    {
      "cell_type": "code",
      "execution_count": 2,
      "metadata": {
        "id": "7CnDkiyw1GHk"
      },
      "outputs": [],
      "source": [
        "import sys\n",
        "from SPARQLWrapper import SPARQLWrapper, JSON\n",
        "\n",
        "endpoint_url = \"https://query.wikidata.org/sparql\"\n",
        "\n",
        "query = \"\"\"SELECT DISTINCT ?item ?itemLabel WHERE {\n",
        "  SERVICE wikibase:label { bd:serviceParam wikibase:language \"[AUTO_LANGUAGE]\". }\n",
        "  {\n",
        "    SELECT DISTINCT ?item ?property ?propertyLabel WHERE {\n",
        "      ?item p:P106 ?statement0.\n",
        "      ?statement0 (ps:P106/(wdt:P279*)) wd:Q2083925.\n",
        "      \n",
        "    }\n",
        "    LIMIT 100000\n",
        "  }\n",
        "}\"\"\"\n",
        "\n",
        "\n",
        "def get_results(endpoint_url, query):\n",
        "    user_agent = \"get-botcol-props Python/%s.%s\" % (sys.version_info[0], sys.version_info[1])\n",
        "    # TODO adjust user agent; see https://w.wiki/CX6\n",
        "    sparql = SPARQLWrapper(endpoint_url, agent=user_agent)\n",
        "    sparql.setQuery(query)\n",
        "    sparql.setReturnFormat(JSON)\n",
        "    return sparql.query().convert()\n",
        "\n",
        "\n",
        "results = get_results(endpoint_url, query)\n",
        "\n",
        "#for result in results[\"results\"][\"bindings\"]:\n",
        "#    print(result)"
      ]
    },
    {
      "cell_type": "code",
      "source": [
        "from wikidata.client import Client\n",
        "import re\n",
        "client = Client()\n",
        "\n",
        "tally = []\n",
        "\n",
        "for result in results[\"results\"][\"bindings\"]:\n",
        "  q_num = result[\"itemLabel\"][\"value\"]\n",
        "  entity = client.get(q_num, load=False)\n",
        "  #list all properties\n",
        "  props = re.findall(\"(?<=property': ')P[0-9]+\",str(entity.attributes['claims']))\n",
        "  tally.append(props)"
      ],
      "metadata": {
        "id": "8-cIVqUJ3-1W"
      },
      "execution_count": 79,
      "outputs": []
    },
    {
      "cell_type": "code",
      "source": [
        "from collections import Counter\n",
        "\n",
        "c = Counter([item for sublist in tally for item in sublist])"
      ],
      "metadata": {
        "id": "-ilKJKTykyDT"
      },
      "execution_count": 80,
      "outputs": []
    },
    {
      "cell_type": "code",
      "source": [
        "\n",
        "# get n most common properties for botanical collectors, or all of them\n",
        "\n",
        "n_prop = len(set([item for sublist in tally for item in sublist]))\n",
        "#c.most_common(n_prop)\n",
        "c.most_common(35)"
      ],
      "metadata": {
        "colab": {
          "base_uri": "https://localhost:8080/"
        },
        "id": "ybswRqwknbzD",
        "outputId": "cbae3457-ded2-46ad-eaba-60f9856ac66f"
      },
      "execution_count": 81,
      "outputs": [
        {
          "output_type": "execute_result",
          "data": {
            "text/plain": [
              "[('P813', 21473),\n",
              " ('P248', 13040),\n",
              " ('P854', 11190),\n",
              " ('P106', 5091),\n",
              " ('P214', 3002),\n",
              " ('P143', 2716),\n",
              " ('P735', 2652),\n",
              " ('P6264', 2273),\n",
              " ('P1810', 2212),\n",
              " ('P734', 2112),\n",
              " ('P1545', 2092),\n",
              " ('P31', 1992),\n",
              " ('P569', 1864),\n",
              " ('P21', 1813),\n",
              " ('P3831', 1790),\n",
              " ('P570', 1622),\n",
              " ('P27', 1581),\n",
              " ('P586', 1421),\n",
              " ('P2889', 1389),\n",
              " ('P6944', 1294),\n",
              " ('P535', 1165),\n",
              " ('P304', 1123),\n",
              " ('P19', 1079),\n",
              " ('P428', 931),\n",
              " ('P20', 812),\n",
              " ('P4081', 776),\n",
              " ('P69', 773),\n",
              " ('P108', 726),\n",
              " ('P7859', 601),\n",
              " ('P3342', 583),\n",
              " ('P580', 547),\n",
              " ('P244', 545),\n",
              " ('P463', 543),\n",
              " ('P213', 478),\n",
              " ('P551', 421)]"
            ]
          },
          "metadata": {},
          "execution_count": 81
        }
      ]
    },
    {
      "cell_type": "code",
      "source": [
        "prop = client.get('P586')"
      ],
      "metadata": {
        "id": "5Rw5cefanwAV"
      },
      "execution_count": 82,
      "outputs": []
    },
    {
      "cell_type": "code",
      "source": [
        "prop.label"
      ],
      "metadata": {
        "colab": {
          "base_uri": "https://localhost:8080/"
        },
        "id": "3XrkLOJzo5rC",
        "outputId": "baa4d447-3a44-47d9-bd8e-aa8e1a6dc954"
      },
      "execution_count": 83,
      "outputs": [
        {
          "output_type": "execute_result",
          "data": {
            "text/plain": [
              "m'IPNI author ID'"
            ]
          },
          "metadata": {},
          "execution_count": 83
        }
      ]
    },
    {
      "cell_type": "code",
      "source": [
        "import pandas as pd\n",
        "\n",
        "df = pd.DataFrame(c.most_common(n_prop),columns=['Property','n'])\n",
        "#df['label'] = df['Property'].map()"
      ],
      "metadata": {
        "id": "3D0c4GUyp83N"
      },
      "execution_count": 84,
      "outputs": []
    },
    {
      "cell_type": "code",
      "source": [
        "df['Label']= df['Property'].map(lambda prop: client.get(prop).label.texts['en'])"
      ],
      "metadata": {
        "id": "4fLodbXYrJ4q"
      },
      "execution_count": 85,
      "outputs": []
    },
    {
      "cell_type": "code",
      "source": [
        "%load_ext google.colab.data_table"
      ],
      "metadata": {
        "colab": {
          "base_uri": "https://localhost:8080/"
        },
        "id": "2_MkMfIftpoY",
        "outputId": "0858be4b-ebcd-4322-d7e9-0b577bbbd73b"
      },
      "execution_count": 86,
      "outputs": [
        {
          "output_type": "stream",
          "name": "stdout",
          "text": [
            "The google.colab.data_table extension is already loaded. To reload it, use:\n",
            "  %reload_ext google.colab.data_table\n"
          ]
        }
      ]
    },
    {
      "cell_type": "markdown",
      "source": [
        "Some properties can occur more than once on an entity, especially claims regarding references; Because I think it's valuable to see what claims are added to references, I included these in the tally"
      ],
      "metadata": {
        "id": "HxLZjMl8uPoN"
      }
    },
    {
      "cell_type": "code",
      "source": [
        "df"
      ],
      "metadata": {
        "colab": {
          "base_uri": "https://localhost:8080/",
          "height": 2240
        },
        "id": "9ueGE6VRsP1Z",
        "outputId": "cadd4d07-d2d1-4d78-dad6-df0c1759413e"
      },
      "execution_count": 87,
      "outputs": [
        {
          "output_type": "execute_result",
          "data": {
            "application/vnd.google.colaboratory.module+javascript": "\n      import \"https://ssl.gstatic.com/colaboratory/data_table/a6224c040fa35dcf/data_table.js\";\n\n      window.createDataTable({\n        data: [[{\n            'v': 0,\n            'f': \"0\",\n        },\n\"P813\",\n{\n            'v': 21473,\n            'f': \"21473\",\n        },\n\"retrieved\"],\n [{\n            'v': 1,\n            'f': \"1\",\n        },\n\"P248\",\n{\n            'v': 13040,\n            'f': \"13040\",\n        },\n\"stated in\"],\n [{\n            'v': 2,\n            'f': \"2\",\n        },\n\"P854\",\n{\n            'v': 11190,\n            'f': \"11190\",\n        },\n\"reference URL\"],\n [{\n            'v': 3,\n            'f': \"3\",\n        },\n\"P106\",\n{\n            'v': 5091,\n            'f': \"5091\",\n        },\n\"occupation\"],\n [{\n            'v': 4,\n            'f': \"4\",\n        },\n\"P214\",\n{\n            'v': 3002,\n            'f': \"3002\",\n        },\n\"VIAF ID\"],\n [{\n            'v': 5,\n            'f': \"5\",\n        },\n\"P143\",\n{\n            'v': 2716,\n            'f': \"2716\",\n        },\n\"imported from Wikimedia project\"],\n [{\n            'v': 6,\n            'f': \"6\",\n        },\n\"P735\",\n{\n            'v': 2652,\n            'f': \"2652\",\n        },\n\"given name\"],\n [{\n            'v': 7,\n            'f': \"7\",\n        },\n\"P6264\",\n{\n            'v': 2273,\n            'f': \"2273\",\n        },\n\"Harvard Index of Botanists ID\"],\n [{\n            'v': 8,\n            'f': \"8\",\n        },\n\"P1810\",\n{\n            'v': 2212,\n            'f': \"2212\",\n        },\n\"named as\"],\n [{\n            'v': 9,\n            'f': \"9\",\n        },\n\"P734\",\n{\n            'v': 2112,\n            'f': \"2112\",\n        },\n\"family name\"],\n [{\n            'v': 10,\n            'f': \"10\",\n        },\n\"P1545\",\n{\n            'v': 2092,\n            'f': \"2092\",\n        },\n\"series ordinal\"],\n [{\n            'v': 11,\n            'f': \"11\",\n        },\n\"P31\",\n{\n            'v': 1992,\n            'f': \"1992\",\n        },\n\"instance of\"],\n [{\n            'v': 12,\n            'f': \"12\",\n        },\n\"P569\",\n{\n            'v': 1864,\n            'f': \"1864\",\n        },\n\"date of birth\"],\n [{\n            'v': 13,\n            'f': \"13\",\n        },\n\"P21\",\n{\n            'v': 1813,\n            'f': \"1813\",\n        },\n\"sex or gender\"],\n [{\n            'v': 14,\n            'f': \"14\",\n        },\n\"P3831\",\n{\n            'v': 1790,\n            'f': \"1790\",\n        },\n\"object has role\"],\n [{\n            'v': 15,\n            'f': \"15\",\n        },\n\"P570\",\n{\n            'v': 1622,\n            'f': \"1622\",\n        },\n\"date of death\"],\n [{\n            'v': 16,\n            'f': \"16\",\n        },\n\"P27\",\n{\n            'v': 1581,\n            'f': \"1581\",\n        },\n\"country of citizenship\"],\n [{\n            'v': 17,\n            'f': \"17\",\n        },\n\"P586\",\n{\n            'v': 1421,\n            'f': \"1421\",\n        },\n\"IPNI author ID\"],\n [{\n            'v': 18,\n            'f': \"18\",\n        },\n\"P2889\",\n{\n            'v': 1389,\n            'f': \"1389\",\n        },\n\"FamilySearch person ID\"],\n [{\n            'v': 19,\n            'f': \"19\",\n        },\n\"P6944\",\n{\n            'v': 1294,\n            'f': \"1294\",\n        },\n\"Bionomia ID\"],\n [{\n            'v': 20,\n            'f': \"20\",\n        },\n\"P535\",\n{\n            'v': 1165,\n            'f': \"1165\",\n        },\n\"Find A Grave memorial ID\"],\n [{\n            'v': 21,\n            'f': \"21\",\n        },\n\"P304\",\n{\n            'v': 1123,\n            'f': \"1123\",\n        },\n\"page(s)\"],\n [{\n            'v': 22,\n            'f': \"22\",\n        },\n\"P19\",\n{\n            'v': 1079,\n            'f': \"1079\",\n        },\n\"place of birth\"],\n [{\n            'v': 23,\n            'f': \"23\",\n        },\n\"P428\",\n{\n            'v': 931,\n            'f': \"931\",\n        },\n\"botanist author abbreviation\"],\n [{\n            'v': 24,\n            'f': \"24\",\n        },\n\"P20\",\n{\n            'v': 812,\n            'f': \"812\",\n        },\n\"place of death\"],\n [{\n            'v': 25,\n            'f': \"25\",\n        },\n\"P4081\",\n{\n            'v': 776,\n            'f': \"776\",\n        },\n\"BHL creator ID\"],\n [{\n            'v': 26,\n            'f': \"26\",\n        },\n\"P69\",\n{\n            'v': 773,\n            'f': \"773\",\n        },\n\"educated at\"],\n [{\n            'v': 27,\n            'f': \"27\",\n        },\n\"P108\",\n{\n            'v': 726,\n            'f': \"726\",\n        },\n\"employer\"],\n [{\n            'v': 28,\n            'f': \"28\",\n        },\n\"P7859\",\n{\n            'v': 601,\n            'f': \"601\",\n        },\n\"WorldCat Identities ID\"],\n [{\n            'v': 29,\n            'f': \"29\",\n        },\n\"P3342\",\n{\n            'v': 583,\n            'f': \"583\",\n        },\n\"significant person\"],\n [{\n            'v': 30,\n            'f': \"30\",\n        },\n\"P580\",\n{\n            'v': 547,\n            'f': \"547\",\n        },\n\"start time\"],\n [{\n            'v': 31,\n            'f': \"31\",\n        },\n\"P244\",\n{\n            'v': 545,\n            'f': \"545\",\n        },\n\"Library of Congress authority ID\"],\n [{\n            'v': 32,\n            'f': \"32\",\n        },\n\"P463\",\n{\n            'v': 543,\n            'f': \"543\",\n        },\n\"member of\"],\n [{\n            'v': 33,\n            'f': \"33\",\n        },\n\"P213\",\n{\n            'v': 478,\n            'f': \"478\",\n        },\n\"ISNI\"],\n [{\n            'v': 34,\n            'f': \"34\",\n        },\n\"P551\",\n{\n            'v': 421,\n            'f': \"421\",\n        },\n\"residence\"],\n [{\n            'v': 35,\n            'f': \"35\",\n        },\n\"P26\",\n{\n            'v': 402,\n            'f': \"402\",\n        },\n\"spouse\"],\n [{\n            'v': 36,\n            'f': \"36\",\n        },\n\"P227\",\n{\n            'v': 390,\n            'f': \"390\",\n        },\n\"GND ID\"],\n [{\n            'v': 37,\n            'f': \"37\",\n        },\n\"P1412\",\n{\n            'v': 379,\n            'f': \"379\",\n        },\n\"languages spoken, written or signed\"],\n [{\n            'v': 38,\n            'f': \"38\",\n        },\n\"P582\",\n{\n            'v': 330,\n            'f': \"330\",\n        },\n\"end time\"],\n [{\n            'v': 39,\n            'f': \"39\",\n        },\n\"P1476\",\n{\n            'v': 305,\n            'f': \"305\",\n        },\n\"title\"],\n [{\n            'v': 40,\n            'f': \"40\",\n        },\n\"P1006\",\n{\n            'v': 298,\n            'f': \"298\",\n        },\n\"Nationale Thesaurus voor Auteurs ID\"],\n [{\n            'v': 41,\n            'f': \"41\",\n        },\n\"P269\",\n{\n            'v': 283,\n            'f': \"283\",\n        },\n\"IdRef ID\"],\n [{\n            'v': 42,\n            'f': \"42\",\n        },\n\"P4656\",\n{\n            'v': 278,\n            'f': \"278\",\n        },\n\"Wikimedia import URL\"],\n [{\n            'v': 43,\n            'f': \"43\",\n        },\n\"P268\",\n{\n            'v': 274,\n            'f': \"274\",\n        },\n\"Biblioth\\u00e8que nationale de France ID\"],\n [{\n            'v': 44,\n            'f': \"44\",\n        },\n\"P585\",\n{\n            'v': 272,\n            'f': \"272\",\n        },\n\"point in time\"],\n [{\n            'v': 45,\n            'f': \"45\",\n        },\n\"P166\",\n{\n            'v': 268,\n            'f': \"268\",\n        },\n\"award received\"],\n [{\n            'v': 46,\n            'f': \"46\",\n        },\n\"P646\",\n{\n            'v': 264,\n            'f': \"264\",\n        },\n\"Freebase ID\"],\n [{\n            'v': 47,\n            'f': \"47\",\n        },\n\"P887\",\n{\n            'v': 261,\n            'f': \"261\",\n        },\n\"based on heuristic\"],\n [{\n            'v': 48,\n            'f': \"48\",\n        },\n\"P1065\",\n{\n            'v': 257,\n            'f': \"257\",\n        },\n\"archive URL\"],\n [{\n            'v': 49,\n            'f': \"49\",\n        },\n\"P2671\",\n{\n            'v': 253,\n            'f': \"253\",\n        },\n\"Google Knowledge Graph ID\"],\n [{\n            'v': 50,\n            'f': \"50\",\n        },\n\"P18\",\n{\n            'v': 250,\n            'f': \"250\",\n        },\n\"image\"],\n [{\n            'v': 51,\n            'f': \"51\",\n        },\n\"P1207\",\n{\n            'v': 236,\n            'f': \"236\",\n        },\n\"NUKAT ID\"],\n [{\n            'v': 52,\n            'f': \"52\",\n        },\n\"P3430\",\n{\n            'v': 229,\n            'f': \"229\",\n        },\n\"SNAC ARK ID\"],\n [{\n            'v': 53,\n            'f': \"53\",\n        },\n\"P2163\",\n{\n            'v': 221,\n            'f': \"221\",\n        },\n\"FAST ID\"],\n [{\n            'v': 54,\n            'f': \"54\",\n        },\n\"P3065\",\n{\n            'v': 211,\n            'f': \"211\",\n        },\n\"RERO ID\"],\n [{\n            'v': 55,\n            'f': \"55\",\n        },\n\"P101\",\n{\n            'v': 208,\n            'f': \"208\",\n        },\n\"field of work\"],\n [{\n            'v': 56,\n            'f': \"56\",\n        },\n\"P1001\",\n{\n            'v': 204,\n            'f': \"204\",\n        },\n\"applies to jurisdiction\"],\n [{\n            'v': 57,\n            'f': \"57\",\n        },\n\"P7763\",\n{\n            'v': 203,\n            'f': \"203\",\n        },\n\"copyright status as a creator\"],\n [{\n            'v': 58,\n            'f': \"58\",\n        },\n\"P3452\",\n{\n            'v': 202,\n            'f': \"202\",\n        },\n\"inferred from\"],\n [{\n            'v': 59,\n            'f': \"59\",\n        },\n\"P485\",\n{\n            'v': 195,\n            'f': \"195\",\n        },\n\"archives at\"],\n [{\n            'v': 60,\n            'f': \"60\",\n        },\n\"P478\",\n{\n            'v': 192,\n            'f': \"192\",\n        },\n\"volume\"],\n [{\n            'v': 61,\n            'f': \"61\",\n        },\n\"P119\",\n{\n            'v': 192,\n            'f': \"192\",\n        },\n\"place of burial\"],\n [{\n            'v': 62,\n            'f': \"62\",\n        },\n\"P648\",\n{\n            'v': 185,\n            'f': \"185\",\n        },\n\"Open Library ID\"],\n [{\n            'v': 63,\n            'f': \"63\",\n        },\n\"P2949\",\n{\n            'v': 183,\n            'f': \"183\",\n        },\n\"WikiTree person ID\"],\n [{\n            'v': 64,\n            'f': \"64\",\n        },\n\"P577\",\n{\n            'v': 178,\n            'f': \"178\",\n        },\n\"publication date\"],\n [{\n            'v': 65,\n            'f': \"65\",\n        },\n\"P2600\",\n{\n            'v': 175,\n            'f': \"175\",\n        },\n\"Geni.com profile ID\"],\n [{\n            'v': 66,\n            'f': \"66\",\n        },\n\"P1343\",\n{\n            'v': 171,\n            'f': \"171\",\n        },\n\"described by source\"],\n [{\n            'v': 67,\n            'f': \"67\",\n        },\n\"P40\",\n{\n            'v': 155,\n            'f': \"155\",\n        },\n\"child\"],\n [{\n            'v': 68,\n            'f': \"68\",\n        },\n\"P512\",\n{\n            'v': 152,\n            'f': \"152\",\n        },\n\"academic degree\"],\n [{\n            'v': 69,\n            'f': \"69\",\n        },\n\"P10168\",\n{\n            'v': 152,\n            'f': \"152\",\n        },\n\"Z\\u00fcrich Herbaria collector ID\"],\n [{\n            'v': 70,\n            'f': \"70\",\n        },\n\"P373\",\n{\n            'v': 142,\n            'f': \"142\",\n        },\n\"Commons category\"],\n [{\n            'v': 71,\n            'f': \"71\",\n        },\n\"P4228\",\n{\n            'v': 131,\n            'f': \"131\",\n        },\n\"Encyclopedia of Australian Science ID\"],\n [{\n            'v': 72,\n            'f': \"72\",\n        },\n\"P3544\",\n{\n            'v': 125,\n            'f': \"125\",\n        },\n\"Te Papa agent ID\"],\n [{\n            'v': 73,\n            'f': \"73\",\n        },\n\"P271\",\n{\n            'v': 124,\n            'f': \"124\",\n        },\n\"CiNii author ID (books)\"],\n [{\n            'v': 74,\n            'f': \"74\",\n        },\n\"P937\",\n{\n            'v': 120,\n            'f': \"120\",\n        },\n\"work location\"],\n [{\n            'v': 75,\n            'f': \"75\",\n        },\n\"P3807\",\n{\n            'v': 119,\n            'f': \"119\",\n        },\n\"S2A3 Biographical Database ID\"],\n [{\n            'v': 76,\n            'f': \"76\",\n        },\n\"P1315\",\n{\n            'v': 117,\n            'f': \"117\",\n        },\n\"NLA Trove people ID\"],\n [{\n            'v': 77,\n            'f': \"77\",\n        },\n\"P6379\",\n{\n            'v': 113,\n            'f': \"113\",\n        },\n\"has works in the collection\"],\n [{\n            'v': 78,\n            'f': \"78\",\n        },\n\"P3373\",\n{\n            'v': 111,\n            'f': \"111\",\n        },\n\"sibling\"],\n [{\n            'v': 79,\n            'f': \"79\",\n        },\n\"P1015\",\n{\n            'v': 111,\n            'f': \"111\",\n        },\n\"NORAF ID\"],\n [{\n            'v': 80,\n            'f': \"80\",\n        },\n\"P691\",\n{\n            'v': 110,\n            'f': \"110\",\n        },\n\"NKCR AUT ID\"],\n [{\n            'v': 81,\n            'f': \"81\",\n        },\n\"P1477\",\n{\n            'v': 110,\n            'f': \"110\",\n        },\n\"birth name\"],\n [{\n            'v': 82,\n            'f': \"82\",\n        },\n\"P22\",\n{\n            'v': 107,\n            'f': \"107\",\n        },\n\"father\"],\n [{\n            'v': 83,\n            'f': \"83\",\n        },\n\"P8189\",\n{\n            'v': 105,\n            'f': \"105\",\n        },\n\"National Library of Israel J9U ID\"],\n [{\n            'v': 84,\n            'f': \"84\",\n        },\n\"P1449\",\n{\n            'v': 105,\n            'f': \"105\",\n        },\n\"nickname\"],\n [{\n            'v': 85,\n            'f': \"85\",\n        },\n\"P103\",\n{\n            'v': 104,\n            'f': \"104\",\n        },\n\"native language\"],\n [{\n            'v': 86,\n            'f': \"86\",\n        },\n\"P7902\",\n{\n            'v': 103,\n            'f': \"103\",\n        },\n\"Deutsche Biographie (GND) ID\"],\n [{\n            'v': 87,\n            'f': \"87\",\n        },\n\"P2349\",\n{\n            'v': 101,\n            'f': \"101\",\n        },\n\"Stuttgart Database of Scientific Illustrators ID\"],\n [{\n            'v': 88,\n            'f': \"88\",\n        },\n\"P4638\",\n{\n            'v': 92,\n            'f': \"92\",\n        },\n\"The Peerage person ID\"],\n [{\n            'v': 89,\n            'f': \"89\",\n        },\n\"P6683\",\n{\n            'v': 88,\n            'f': \"88\",\n        },\n\"Alexander Turnbull Library ID\"],\n [{\n            'v': 90,\n            'f': \"90\",\n        },\n\"P409\",\n{\n            'v': 80,\n            'f': \"80\",\n        },\n\"Libraries Australia ID\"],\n [{\n            'v': 91,\n            'f': \"91\",\n        },\n\"P39\",\n{\n            'v': 76,\n            'f': \"76\",\n        },\n\"position held\"],\n [{\n            'v': 92,\n            'f': \"92\",\n        },\n\"P1416\",\n{\n            'v': 74,\n            'f': \"74\",\n        },\n\"affiliation\"],\n [{\n            'v': 93,\n            'f': \"93\",\n        },\n\"P687\",\n{\n            'v': 73,\n            'f': \"73\",\n        },\n\"BHL Page ID\"],\n [{\n            'v': 94,\n            'f': \"94\",\n        },\n\"P8179\",\n{\n            'v': 72,\n            'f': \"72\",\n        },\n\"Canadiana Name Authority ID\"],\n [{\n            'v': 95,\n            'f': \"95\",\n        },\n\"P496\",\n{\n            'v': 71,\n            'f': \"71\",\n        },\n\"ORCID iD\"],\n [{\n            'v': 96,\n            'f': \"96\",\n        },\n\"P805\",\n{\n            'v': 70,\n            'f': \"70\",\n        },\n\"statement is subject of\"],\n [{\n            'v': 97,\n            'f': \"97\",\n        },\n\"P1480\",\n{\n            'v': 63,\n            'f': \"63\",\n        },\n\"sourcing circumstances\"],\n [{\n            'v': 98,\n            'f': \"98\",\n        },\n\"P3029\",\n{\n            'v': 61,\n            'f': \"61\",\n        },\n\"UK National Archives ID\"],\n [{\n            'v': 99,\n            'f': \"99\",\n        },\n\"P5008\",\n{\n            'v': 61,\n            'f': \"61\",\n        },\n\"on focus list of Wikimedia project\"],\n [{\n            'v': 100,\n            'f': \"100\",\n        },\n\"P7452\",\n{\n            'v': 61,\n            'f': \"61\",\n        },\n\"reason for preferred rank\"],\n [{\n            'v': 101,\n            'f': \"101\",\n        },\n\"P2745\",\n{\n            'v': 61,\n            'f': \"61\",\n        },\n\"Dictionary of New Zealand Biography ID\"],\n [{\n            'v': 102,\n            'f': \"102\",\n        },\n\"P1027\",\n{\n            'v': 60,\n            'f': \"60\",\n        },\n\"conferred by\"],\n [{\n            'v': 103,\n            'f': \"103\",\n        },\n\"P1559\",\n{\n            'v': 59,\n            'f': \"59\",\n        },\n\"name in native language\"],\n [{\n            'v': 104,\n            'f': \"104\",\n        },\n\"P1415\",\n{\n            'v': 59,\n            'f': \"59\",\n        },\n\"Oxford Dictionary of National Biography ID\"],\n [{\n            'v': 105,\n            'f': \"105\",\n        },\n\"P109\",\n{\n            'v': 57,\n            'f': \"57\",\n        },\n\"signature\"],\n [{\n            'v': 106,\n            'f': \"106\",\n        },\n\"P800\",\n{\n            'v': 56,\n            'f': \"56\",\n        },\n\"notable work\"],\n [{\n            'v': 107,\n            'f': \"107\",\n        },\n\"P2734\",\n{\n            'v': 56,\n            'f': \"56\",\n        },\n\"Unz Review author ID\"],\n [{\n            'v': 108,\n            'f': \"108\",\n        },\n\"P8914\",\n{\n            'v': 54,\n            'f': \"54\",\n        },\n\"ZOBODAT person ID\"],\n [{\n            'v': 109,\n            'f': \"109\",\n        },\n\"P1317\",\n{\n            'v': 54,\n            'f': \"54\",\n        },\n\"floruit\"],\n [{\n            'v': 110,\n            'f': \"110\",\n        },\n\"P1871\",\n{\n            'v': 52,\n            'f': \"52\",\n        },\n\"CERL Thesaurus ID\"],\n [{\n            'v': 111,\n            'f': \"111\",\n        },\n\"P1417\",\n{\n            'v': 52,\n            'f': \"52\",\n        },\n\"Encyclop\\u00e6dia Britannica Online ID\"],\n [{\n            'v': 112,\n            'f': \"112\",\n        },\n\"P3987\",\n{\n            'v': 51,\n            'f': \"51\",\n        },\n\"SHARE Catalogue author ID\"],\n [{\n            'v': 113,\n            'f': \"113\",\n        },\n\"P7298\",\n{\n            'v': 51,\n            'f': \"51\",\n        },\n\"Auckland Museum ID\"],\n [{\n            'v': 114,\n            'f': \"114\",\n        },\n\"P356\",\n{\n            'v': 49,\n            'f': \"49\",\n        },\n\"DOI\"],\n [{\n            'v': 115,\n            'f': \"115\",\n        },\n\"P5370\",\n{\n            'v': 47,\n            'f': \"47\",\n        },\n\"Entomologists of the World ID\"],\n [{\n            'v': 116,\n            'f': \"116\",\n        },\n\"P2868\",\n{\n            'v': 47,\n            'f': \"47\",\n        },\n\"subject has role\"],\n [{\n            'v': 117,\n            'f': \"117\",\n        },\n\"P3762\",\n{\n            'v': 45,\n            'f': \"45\",\n        },\n\"openMLOL author ID\"],\n [{\n            'v': 118,\n            'f': \"118\",\n        },\n\"P1889\",\n{\n            'v': 44,\n            'f': \"44\",\n        },\n\"different from\"],\n [{\n            'v': 119,\n            'f': \"119\",\n        },\n\"P1039\",\n{\n            'v': 43,\n            'f': \"43\",\n        },\n\"kinship to subject\"],\n [{\n            'v': 120,\n            'f': \"120\",\n        },\n\"P1038\",\n{\n            'v': 42,\n            'f': \"42\",\n        },\n\"relative\"],\n [{\n            'v': 121,\n            'f': \"121\",\n        },\n\"P185\",\n{\n            'v': 42,\n            'f': \"42\",\n        },\n\"doctoral student\"],\n [{\n            'v': 122,\n            'f': \"122\",\n        },\n\"P25\",\n{\n            'v': 42,\n            'f': \"42\",\n        },\n\"mother\"],\n [{\n            'v': 123,\n            'f': \"123\",\n        },\n\"P407\",\n{\n            'v': 41,\n            'f': \"41\",\n        },\n\"language of work or name\"],\n [{\n            'v': 124,\n            'f': \"124\",\n        },\n\"P6886\",\n{\n            'v': 40,\n            'f': \"40\",\n        },\n\"writing language\"],\n [{\n            'v': 125,\n            'f': \"125\",\n        },\n\"P965\",\n{\n            'v': 38,\n            'f': \"38\",\n        },\n\"burial plot reference\"],\n [{\n            'v': 126,\n            'f': \"126\",\n        },\n\"P6722\",\n{\n            'v': 38,\n            'f': \"38\",\n        },\n\"FemBio ID\"],\n [{\n            'v': 127,\n            'f': \"127\",\n        },\n\"P950\",\n{\n            'v': 37,\n            'f': \"37\",\n        },\n\"Biblioteca Nacional de Espa\\u00f1a ID\"],\n [{\n            'v': 128,\n            'f': \"128\",\n        },\n\"P973\",\n{\n            'v': 37,\n            'f': \"37\",\n        },\n\"described at URL\"],\n [{\n            'v': 129,\n            'f': \"129\",\n        },\n\"P7293\",\n{\n            'v': 35,\n            'f': \"35\",\n        },\n\"PLWABN ID\"],\n [{\n            'v': 130,\n            'f': \"130\",\n        },\n\"P906\",\n{\n            'v': 35,\n            'f': \"35\",\n        },\n\"SELIBR ID\"],\n [{\n            'v': 131,\n            'f': \"131\",\n        },\n\"P5587\",\n{\n            'v': 34,\n            'f': \"34\",\n        },\n\"Libris-URI\"],\n [{\n            'v': 132,\n            'f': \"132\",\n        },\n\"P2038\",\n{\n            'v': 34,\n            'f': \"34\",\n        },\n\"ResearchGate profile ID\"],\n [{\n            'v': 133,\n            'f': \"133\",\n        },\n\"P184\",\n{\n            'v': 33,\n            'f': \"33\",\n        },\n\"doctoral advisor\"],\n [{\n            'v': 134,\n            'f': \"134\",\n        },\n\"P1066\",\n{\n            'v': 33,\n            'f': \"33\",\n        },\n\"student of\"],\n [{\n            'v': 135,\n            'f': \"135\",\n        },\n\"P949\",\n{\n            'v': 32,\n            'f': \"32\",\n        },\n\"National Library of Israel ID\"],\n [{\n            'v': 136,\n            'f': \"136\",\n        },\n\"P1280\",\n{\n            'v': 31,\n            'f': \"31\",\n        },\n\"CONOR.SI ID\"],\n [{\n            'v': 137,\n            'f': \"137\",\n        },\n\"P4629\",\n{\n            'v': 30,\n            'f': \"30\",\n        },\n\"Online Books Page author ID\"],\n [{\n            'v': 138,\n            'f': \"138\",\n        },\n\"P2241\",\n{\n            'v': 30,\n            'f': \"30\",\n        },\n\"reason for deprecated rank\"],\n [{\n            'v': 139,\n            'f': \"139\",\n        },\n\"P509\",\n{\n            'v': 29,\n            'f': \"29\",\n        },\n\"cause of death\"],\n [{\n            'v': 140,\n            'f': \"140\",\n        },\n\"P5858\",\n{\n            'v': 29,\n            'f': \"29\",\n        },\n\"Index Herbariorum code\"],\n [{\n            'v': 141,\n            'f': \"141\",\n        },\n\"P1938\",\n{\n            'v': 29,\n            'f': \"29\",\n        },\n\"Project Gutenberg author ID\"],\n [{\n            'v': 142,\n            'f': \"142\",\n        },\n\"P802\",\n{\n            'v': 27,\n            'f': \"27\",\n        },\n\"student\"],\n [{\n            'v': 143,\n            'f': \"143\",\n        },\n\"P1472\",\n{\n            'v': 26,\n            'f': \"26\",\n        },\n\"Commons Creator page\"],\n [{\n            'v': 144,\n            'f': \"144\",\n        },\n\"P4823\",\n{\n            'v': 26,\n            'f': \"26\",\n        },\n\"American National Biography ID\"],\n [{\n            'v': 145,\n            'f': \"145\",\n        },\n\"P958\",\n{\n            'v': 25,\n            'f': \"25\",\n        },\n\"section, verse, paragraph, or clause\"],\n [{\n            'v': 146,\n            'f': \"146\",\n        },\n\"P6821\",\n{\n            'v': 24,\n            'f': \"24\",\n        },\n\"Uppsala University Alvin ID\"],\n [{\n            'v': 147,\n            'f': \"147\",\n        },\n\"P2699\",\n{\n            'v': 24,\n            'f': \"24\",\n        },\n\"URL\"],\n [{\n            'v': 148,\n            'f': \"148\",\n        },\n\"P650\",\n{\n            'v': 23,\n            'f': \"23\",\n        },\n\"RKDartists ID\"],\n [{\n            'v': 149,\n            'f': \"149\",\n        },\n\"P1005\",\n{\n            'v': 22,\n            'f': \"22\",\n        },\n\"Portuguese National Library ID\"],\n [{\n            'v': 150,\n            'f': \"150\",\n        },\n\"P2650\",\n{\n            'v': 22,\n            'f': \"22\",\n        },\n\"interested in\"],\n [{\n            'v': 151,\n            'f': \"151\",\n        },\n\"P6594\",\n{\n            'v': 20,\n            'f': \"20\",\n        },\n\"Guggenheim fellows ID\"],\n [{\n            'v': 152,\n            'f': \"152\",\n        },\n\"P1534\",\n{\n            'v': 20,\n            'f': \"20\",\n        },\n\"end cause\"],\n [{\n            'v': 153,\n            'f': \"153\",\n        },\n\"P5361\",\n{\n            'v': 20,\n            'f': \"20\",\n        },\n\"BNB person ID\"],\n [{\n            'v': 154,\n            'f': \"154\",\n        },\n\"P3782\",\n{\n            'v': 20,\n            'f': \"20\",\n        },\n\"Artnet artist ID\"],\n [{\n            'v': 155,\n            'f': \"155\",\n        },\n\"P6023\",\n{\n            'v': 20,\n            'f': \"20\",\n        },\n\"ResearchGate contributions ID\"],\n [{\n            'v': 156,\n            'f': \"156\",\n        },\n\"P245\",\n{\n            'v': 19,\n            'f': \"19\",\n        },\n\"Union List of Artist Names ID\"],\n [{\n            'v': 157,\n            'f': \"157\",\n        },\n\"P7704\",\n{\n            'v': 19,\n            'f': \"19\",\n        },\n\"Europeana entity\"],\n [{\n            'v': 158,\n            'f': \"158\",\n        },\n\"P4432\",\n{\n            'v': 19,\n            'f': \"19\",\n        },\n\"AKL Online artist ID\"],\n [{\n            'v': 159,\n            'f': \"159\",\n        },\n\"P1711\",\n{\n            'v': 19,\n            'f': \"19\",\n        },\n\"British Museum person or institution ID\"],\n [{\n            'v': 160,\n            'f': \"160\",\n        },\n\"P935\",\n{\n            'v': 18,\n            'f': \"18\",\n        },\n\"Commons gallery\"],\n [{\n            'v': 161,\n            'f': \"161\",\n        },\n\"P8947\",\n{\n            'v': 18,\n            'f': \"18\",\n        },\n\"Museo Galileo authority ID\"],\n [{\n            'v': 162,\n            'f': \"162\",\n        },\n\"P8034\",\n{\n            'v': 18,\n            'f': \"18\",\n        },\n\"Vatican Library VcBA ID\"],\n [{\n            'v': 163,\n            'f': \"163\",\n        },\n\"P1196\",\n{\n            'v': 18,\n            'f': \"18\",\n        },\n\"manner of death\"],\n [{\n            'v': 164,\n            'f': \"164\",\n        },\n\"P6605\",\n{\n            'v': 18,\n            'f': \"18\",\n        },\n\"Plant Illustrations artist ID\"],\n [{\n            'v': 165,\n            'f': \"165\",\n        },\n\"P2383\",\n{\n            'v': 18,\n            'f': \"18\",\n        },\n\"CTHS person ID\"],\n [{\n            'v': 166,\n            'f': \"166\",\n        },\n\"P812\",\n{\n            'v': 18,\n            'f': \"18\",\n        },\n\"academic major\"],\n [{\n            'v': 167,\n            'f': \"167\",\n        },\n\"P6844\",\n{\n            'v': 18,\n            'f': \"18\",\n        },\n\"abART person ID\"],\n [{\n            'v': 168,\n            'f': \"168\",\n        },\n\"P3413\",\n{\n            'v': 17,\n            'f': \"17\",\n        },\n\"Leopoldina member ID\"],\n [{\n            'v': 169,\n            'f': \"169\",\n        },\n\"P349\",\n{\n            'v': 17,\n            'f': \"17\",\n        },\n\"National Diet Library ID\"],\n [{\n            'v': 170,\n            'f': \"170\",\n        },\n\"P9159\",\n{\n            'v': 17,\n            'f': \"17\",\n        },\n\"People Australia ID\"],\n [{\n            'v': 171,\n            'f': \"171\",\n        },\n\"P1819\",\n{\n            'v': 17,\n            'f': \"17\",\n        },\n\"genealogics.org person ID\"],\n [{\n            'v': 172,\n            'f': \"172\",\n        },\n\"P6634\",\n{\n            'v': 16,\n            'f': \"16\",\n        },\n\"LinkedIn personal profile ID\"],\n [{\n            'v': 173,\n            'f': \"173\",\n        },\n\"P1907\",\n{\n            'v': 16,\n            'f': \"16\",\n        },\n\"Australian Dictionary of Biography ID\"],\n [{\n            'v': 174,\n            'f': \"174\",\n        },\n\"P1816\",\n{\n            'v': 16,\n            'f': \"16\",\n        },\n\"National Portrait Gallery (London) person ID\"],\n [{\n            'v': 175,\n            'f': \"175\",\n        },\n\"P2562\",\n{\n            'v': 16,\n            'f': \"16\",\n        },\n\"married name\"],\n [{\n            'v': 176,\n            'f': \"176\",\n        },\n\"P8826\",\n{\n            'v': 15,\n            'f': \"15\",\n        },\n\"edition humboldt digital ID\"],\n [{\n            'v': 177,\n            'f': \"177\",\n        },\n\"P1442\",\n{\n            'v': 15,\n            'f': \"15\",\n        },\n\"image of grave\"],\n [{\n            'v': 178,\n            'f': \"178\",\n        },\n\"P2381\",\n{\n            'v': 15,\n            'f': \"15\",\n        },\n\"Academic Tree ID\"],\n [{\n            'v': 179,\n            'f': \"179\",\n        },\n\"P2096\",\n{\n            'v': 15,\n            'f': \"15\",\n        },\n\"media legend\"],\n [{\n            'v': 180,\n            'f': \"180\",\n        },\n\"P737\",\n{\n            'v': 15,\n            'f': \"15\",\n        },\n\"influenced by\"],\n [{\n            'v': 181,\n            'f': \"181\",\n        },\n\"P2031\",\n{\n            'v': 15,\n            'f': \"15\",\n        },\n\"work period (start)\"],\n [{\n            'v': 182,\n            'f': \"182\",\n        },\n\"P910\",\n{\n            'v': 14,\n            'f': \"14\",\n        },\n\"topic's main category\"],\n [{\n            'v': 183,\n            'f': \"183\",\n        },\n\"P9905\",\n{\n            'v': 14,\n            'f': \"14\",\n        },\n\"relevant date for copyright\"],\n [{\n            'v': 184,\n            'f': \"184\",\n        },\n\"P9044\",\n{\n            'v': 14,\n            'f': \"14\",\n        },\n\"GEPRIS-Historisch ID (Person)\"],\n [{\n            'v': 185,\n            'f': \"185\",\n        },\n\"P217\",\n{\n            'v': 14,\n            'f': \"14\",\n        },\n\"inventory number\"],\n [{\n            'v': 186,\n            'f': \"186\",\n        },\n\"P2732\",\n{\n            'v': 14,\n            'f': \"14\",\n        },\n\"Pers\\u00e9e author ID\"],\n [{\n            'v': 187,\n            'f': \"187\",\n        },\n\"P1153\",\n{\n            'v': 14,\n            'f': \"14\",\n        },\n\"Scopus author ID\"],\n [{\n            'v': 188,\n            'f': \"188\",\n        },\n\"P8081\",\n{\n            'v': 14,\n            'f': \"14\",\n        },\n\"WBIS ID\"],\n [{\n            'v': 189,\n            'f': \"189\",\n        },\n\"P7831\",\n{\n            'v': 14,\n            'f': \"14\",\n        },\n\"NMVW ID\"],\n [{\n            'v': 190,\n            'f': \"190\",\n        },\n\"P3348\",\n{\n            'v': 13,\n            'f': \"13\",\n        },\n\"National Library of Greece ID\"],\n [{\n            'v': 191,\n            'f': \"191\",\n        },\n\"P9232\",\n{\n            'v': 13,\n            'f': \"13\",\n        },\n\"Obituaries Australia ID\"],\n [{\n            'v': 192,\n            'f': \"192\",\n        },\n\"P5375\",\n{\n            'v': 13,\n            'f': \"13\",\n        },\n\"BIU Sant\\u00e9 person ID\"],\n [{\n            'v': 193,\n            'f': \"193\",\n        },\n\"P1615\",\n{\n            'v': 13,\n            'f': \"13\",\n        },\n\"CLARA-ID\"],\n [{\n            'v': 194,\n            'f': \"194\",\n        },\n\"P4012\",\n{\n            'v': 13,\n            'f': \"13\",\n        },\n\"Semantic Scholar author ID\"],\n [{\n            'v': 195,\n            'f': \"195\",\n        },\n\"P1366\",\n{\n            'v': 13,\n            'f': \"13\",\n        },\n\"replaced by\"],\n [{\n            'v': 196,\n            'f': \"196\",\n        },\n\"P2960\",\n{\n            'v': 13,\n            'f': \"13\",\n        },\n\"archive date\"],\n [{\n            'v': 197,\n            'f': \"197\",\n        },\n\"P607\",\n{\n            'v': 13,\n            'f': \"13\",\n        },\n\"conflict\"],\n [{\n            'v': 198,\n            'f': \"198\",\n        },\n\"P4539\",\n{\n            'v': 13,\n            'f': \"13\",\n        },\n\"Collective Biographies of Women ID\"],\n [{\n            'v': 199,\n            'f': \"199\",\n        },\n\"P1580\",\n{\n            'v': 12,\n            'f': \"12\",\n        },\n\"University of Barcelona authority ID (obsolete)\"],\n [{\n            'v': 200,\n            'f': \"200\",\n        },\n\"P17\",\n{\n            'v': 12,\n            'f': \"12\",\n        },\n\"country\"],\n [{\n            'v': 201,\n            'f': \"201\",\n        },\n\"P7699\",\n{\n            'v': 12,\n            'f': \"12\",\n        },\n\"National Library of Lithuania ID\"],\n [{\n            'v': 202,\n            'f': \"202\",\n        },\n\"P2750\",\n{\n            'v': 12,\n            'f': \"12\",\n        },\n\"Photographers' Identities Catalog ID\"],\n [{\n            'v': 203,\n            'f': \"203\",\n        },\n\"P1960\",\n{\n            'v': 12,\n            'f': \"12\",\n        },\n\"Google Scholar author ID\"],\n [{\n            'v': 204,\n            'f': \"204\",\n        },\n\"P3051\",\n{\n            'v': 12,\n            'f': \"12\",\n        },\n\"Kindred Britain ID\"],\n [{\n            'v': 205,\n            'f': \"205\",\n        },\n\"P642\",\n{\n            'v': 12,\n            'f': \"12\",\n        },\n\"of\"],\n [{\n            'v': 206,\n            'f': \"206\",\n        },\n\"P9097\",\n{\n            'v': 12,\n            'f': \"12\",\n        },\n\"American Academy in Rome ID\"],\n [{\n            'v': 207,\n            'f': \"207\",\n        },\n\"P2533\",\n{\n            'v': 12,\n            'f': \"12\",\n        },\n\"WomenWriters ID\"],\n [{\n            'v': 208,\n            'f': \"208\",\n        },\n\"P1326\",\n{\n            'v': 12,\n            'f': \"12\",\n        },\n\"latest date\"],\n [{\n            'v': 209,\n            'f': \"209\",\n        },\n\"P1433\",\n{\n            'v': 11,\n            'f': \"11\",\n        },\n\"published in\"],\n [{\n            'v': 210,\n            'f': \"210\",\n        },\n\"P9918\",\n{\n            'v': 11,\n            'f': \"11\",\n        },\n\"Kall\\u00edas ID\"],\n [{\n            'v': 211,\n            'f': \"211\",\n        },\n\"P1017\",\n{\n            'v': 11,\n            'f': \"11\",\n        },\n\"Vatican Library ID (former scheme)\"],\n [{\n            'v': 212,\n            'f': \"212\",\n        },\n\"P5034\",\n{\n            'v': 11,\n            'f': \"11\",\n        },\n\"National Library of Korea ID\"],\n [{\n            'v': 213,\n            'f': \"213\",\n        },\n\"P3829\",\n{\n            'v': 11,\n            'f': \"11\",\n        },\n\"Publons author ID\"],\n [{\n            'v': 214,\n            'f': \"214\",\n        },\n\"P1053\",\n{\n            'v': 11,\n            'f': \"11\",\n        },\n\"ResearcherID\"],\n [{\n            'v': 215,\n            'f': \"215\",\n        },\n\"P8496\",\n{\n            'v': 11,\n            'f': \"11\",\n        },\n\"Archive Site Trinity College Cambridge ID\"],\n [{\n            'v': 216,\n            'f': \"216\",\n        },\n\"P140\",\n{\n            'v': 11,\n            'f': \"11\",\n        },\n\"religion\"],\n [{\n            'v': 217,\n            'f': \"217\",\n        },\n\"P1344\",\n{\n            'v': 11,\n            'f': \"11\",\n        },\n\"participant in\"],\n [{\n            'v': 218,\n            'f': \"218\",\n        },\n\"P6552\",\n{\n            'v': 11,\n            'f': \"11\",\n        },\n\"Twitter user numeric ID\"],\n [{\n            'v': 219,\n            'f': \"219\",\n        },\n\"P4619\",\n{\n            'v': 10,\n            'f': \"10\",\n        },\n\"National Library of Brazil ID\"],\n [{\n            'v': 220,\n            'f': \"220\",\n        },\n\"P1695\",\n{\n            'v': 10,\n            'f': \"10\",\n        },\n\"NLP ID (unique)\"],\n [{\n            'v': 221,\n            'f': \"221\",\n        },\n\"P856\",\n{\n            'v': 10,\n            'f': \"10\",\n        },\n\"official website\"],\n [{\n            'v': 222,\n            'f': \"222\",\n        },\n\"P6178\",\n{\n            'v': 10,\n            'f': \"10\",\n        },\n\"Dimensions author ID\"],\n [{\n            'v': 223,\n            'f': \"223\",\n        },\n\"P2006\",\n{\n            'v': 10,\n            'f': \"10\",\n        },\n\"ZooBank author ID\"],\n [{\n            'v': 224,\n            'f': \"224\",\n        },\n\"P6792\",\n{\n            'v': 10,\n            'f': \"10\",\n        },\n\"Find NZ Artists ID\"],\n [{\n            'v': 225,\n            'f': \"225\",\n        },\n\"P8902\",\n{\n            'v': 10,\n            'f': \"10\",\n        },\n\"Archives at Yale names ID\"],\n [{\n            'v': 226,\n            'f': \"226\",\n        },\n\"P6578\",\n{\n            'v': 10,\n            'f': \"10\",\n        },\n\"MutualArt artist ID\"],\n [{\n            'v': 227,\n            'f': \"227\",\n        },\n\"P1899\",\n{\n            'v': 10,\n            'f': \"10\",\n        },\n\"LibriVox author ID\"],\n [{\n            'v': 228,\n            'f': \"228\",\n        },\n\"P2966\",\n{\n            'v': 10,\n            'f': \"10\",\n        },\n\"National Library of Wales Authority ID\"],\n [{\n            'v': 229,\n            'f': \"229\",\n        },\n\"P651\",\n{\n            'v': 10,\n            'f': \"10\",\n        },\n\"Biografisch Portaal van Nederland ID\"],\n [{\n            'v': 230,\n            'f': \"230\",\n        },\n\"P1327\",\n{\n            'v': 10,\n            'f': \"10\",\n        },\n\"partner in business or sport\"],\n [{\n            'v': 231,\n            'f': \"231\",\n        },\n\"P8094\",\n{\n            'v': 10,\n            'f': \"10\",\n        },\n\"GeneaStar person ID\"],\n [{\n            'v': 232,\n            'f': \"232\",\n        },\n\"P8219\",\n{\n            'v': 9,\n            'f': \"9\",\n        },\n\"ASUT ID\"],\n [{\n            'v': 233,\n            'f': \"233\",\n        },\n\"P9037\",\n{\n            'v': 9,\n            'f': \"9\",\n        },\n\"BHCL UUID\"],\n [{\n            'v': 234,\n            'f': \"234\",\n        },\n\"P5019\",\n{\n            'v': 9,\n            'f': \"9\",\n        },\n\"Brockhaus Enzyklop\\u00e4die online ID\"],\n [{\n            'v': 235,\n            'f': \"235\",\n        },\n\"P3222\",\n{\n            'v': 9,\n            'f': \"9\",\n        },\n\"NE.se ID\"],\n [{\n            'v': 236,\n            'f': \"236\",\n        },\n\"P3630\",\n{\n            'v': 9,\n            'f': \"9\",\n        },\n\"Babelio author ID\"],\n [{\n            'v': 237,\n            'f': \"237\",\n        },\n\"P9984\",\n{\n            'v': 9,\n            'f': \"9\",\n        },\n\"CANTIC ID\"],\n [{\n            'v': 238,\n            'f': \"238\",\n        },\n\"P2888\",\n{\n            'v': 9,\n            'f': \"9\",\n        },\n\"exact match\"],\n [{\n            'v': 239,\n            'f': \"239\",\n        },\n\"P1368\",\n{\n            'v': 9,\n            'f': \"9\",\n        },\n\"LNB ID\"],\n [{\n            'v': 240,\n            'f': \"240\",\n        },\n\"P902\",\n{\n            'v': 9,\n            'f': \"9\",\n        },\n\"HDS ID\"],\n [{\n            'v': 241,\n            'f': \"241\",\n        },\n\"P8406\",\n{\n            'v': 9,\n            'f': \"9\",\n        },\n\"Grove Art Online ID\"],\n [{\n            'v': 242,\n            'f': \"242\",\n        },\n\"P4789\",\n{\n            'v': 9,\n            'f': \"9\",\n        },\n\"Who's Who UK ID\"],\n [{\n            'v': 243,\n            'f': \"243\",\n        },\n\"P835\",\n{\n            'v': 9,\n            'f': \"9\",\n        },\n\"author citation (zoology)\"],\n [{\n            'v': 244,\n            'f': \"244\",\n        },\n\"P2843\",\n{\n            'v': 9,\n            'f': \"9\",\n        },\n\"Benezit ID\"],\n [{\n            'v': 245,\n            'f': \"245\",\n        },\n\"P1802\",\n{\n            'v': 9,\n            'f': \"9\",\n        },\n\"EMLO person ID\"],\n [{\n            'v': 246,\n            'f': \"246\",\n        },\n\"P6815\",\n{\n            'v': 9,\n            'f': \"9\",\n        },\n\"University of Amsterdam Album Academicum ID\"],\n [{\n            'v': 247,\n            'f': \"247\",\n        },\n\"P4927\",\n{\n            'v': 8,\n            'f': \"8\",\n        },\n\"Invaluable.com person ID\"],\n [{\n            'v': 248,\n            'f': \"248\",\n        },\n\"P9244\",\n{\n            'v': 8,\n            'f': \"8\",\n        },\n\"Women Australia ID\"],\n [{\n            'v': 249,\n            'f': \"249\",\n        },\n\"P1273\",\n{\n            'v': 8,\n            'f': \"8\",\n        },\n\"CANTIC ID (old)\"],\n [{\n            'v': 250,\n            'f': \"250\",\n        },\n\"P3744\",\n{\n            'v': 8,\n            'f': \"8\",\n        },\n\"number of subscribers\"],\n [{\n            'v': 251,\n            'f': \"251\",\n        },\n\"P123\",\n{\n            'v': 8,\n            'f': \"8\",\n        },\n\"publisher\"],\n [{\n            'v': 252,\n            'f': \"252\",\n        },\n\"P2268\",\n{\n            'v': 8,\n            'f': \"8\",\n        },\n\"Mus\\u00e9e d'Orsay artist ID\"],\n [{\n            'v': 253,\n            'f': \"253\",\n        },\n\"P7578\",\n{\n            'v': 8,\n            'f': \"8\",\n        },\n\"DUC ID\"],\n [{\n            'v': 254,\n            'f': \"254\",\n        },\n\"P7793\",\n{\n            'v': 8,\n            'f': \"8\",\n        },\n\"filename in archive\"],\n [{\n            'v': 255,\n            'f': \"255\",\n        },\n\"P1365\",\n{\n            'v': 8,\n            'f': \"8\",\n        },\n\"replaces\"],\n [{\n            'v': 256,\n            'f': \"256\",\n        },\n\"P1636\",\n{\n            'v': 8,\n            'f': \"8\",\n        },\n\"date of baptism in early childhood\"],\n [{\n            'v': 257,\n            'f': \"257\",\n        },\n\"P8153\",\n{\n            'v': 8,\n            'f': \"8\",\n        },\n\"Accademia delle Scienze di Torino ID\"],\n [{\n            'v': 258,\n            'f': \"258\",\n        },\n\"P2401\",\n{\n            'v': 8,\n            'f': \"8\",\n        },\n\"Six Degrees of Francis Bacon ID\"],\n [{\n            'v': 259,\n            'f': \"259\",\n        },\n\"P9493\",\n{\n            'v': 7,\n            'f': \"7\",\n        },\n\"artist files at\"],\n [{\n            'v': 260,\n            'f': \"260\",\n        },\n\"P102\",\n{\n            'v': 7,\n            'f': \"7\",\n        },\n\"member of political party\"],\n [{\n            'v': 261,\n            'f': \"261\",\n        },\n\"P1707\",\n{\n            'v': 7,\n            'f': \"7\",\n        },\n\"DAAO ID\"],\n [{\n            'v': 262,\n            'f': \"262\",\n        },\n\"P4200\",\n{\n            'v': 7,\n            'f': \"7\",\n        },\n\"Christie's creator ID\"],\n [{\n            'v': 263,\n            'f': \"263\",\n        },\n\"P1683\",\n{\n            'v': 7,\n            'f': \"7\",\n        },\n\"quotation\"],\n [{\n            'v': 264,\n            'f': \"264\",\n        },\n\"P723\",\n{\n            'v': 7,\n            'f': \"7\",\n        },\n\"Digitale Bibliotheek voor de Nederlandse Letteren author ID\"],\n [{\n            'v': 265,\n            'f': \"265\",\n        },\n\"P3280\",\n{\n            'v': 7,\n            'f': \"7\",\n        },\n\"BAnQ author ID\"],\n [{\n            'v': 266,\n            'f': \"266\",\n        },\n\"P1599\",\n{\n            'v': 7,\n            'f': \"7\",\n        },\n\"Cambridge Alumni Database ID\"],\n [{\n            'v': 267,\n            'f': \"267\",\n        },\n\"P1233\",\n{\n            'v': 7,\n            'f': \"7\",\n        },\n\"Internet Speculative Fiction Database author ID\"],\n [{\n            'v': 268,\n            'f': \"268\",\n        },\n\"P4342\",\n{\n            'v': 7,\n            'f': \"7\",\n        },\n\"Store norske leksikon ID\"],\n [{\n            'v': 269,\n            'f': \"269\",\n        },\n\"P768\",\n{\n            'v': 7,\n            'f': \"7\",\n        },\n\"electoral district\"],\n [{\n            'v': 270,\n            'f': \"270\",\n        },\n\"P641\",\n{\n            'v': 7,\n            'f': \"7\",\n        },\n\"sport\"],\n [{\n            'v': 271,\n            'f': \"271\",\n        },\n\"P2032\",\n{\n            'v': 7,\n            'f': \"7\",\n        },\n\"work period (end)\"],\n [{\n            'v': 272,\n            'f': \"272\",\n        },\n\"P276\",\n{\n            'v': 7,\n            'f': \"7\",\n        },\n\"location\"],\n [{\n            'v': 273,\n            'f': \"273\",\n        },\n\"P7848\",\n{\n            'v': 7,\n            'f': \"7\",\n        },\n\"Frick Art Reference Library Artist File ID\"],\n [{\n            'v': 274,\n            'f': \"274\",\n        },\n\"P2002\",\n{\n            'v': 7,\n            'f': \"7\",\n        },\n\"Twitter username\"],\n [{\n            'v': 275,\n            'f': \"275\",\n        },\n\"P1296\",\n{\n            'v': 6,\n            'f': \"6\",\n        },\n\"Gran Enciclop\\u00e8dia Catalana ID\"],\n [{\n            'v': 276,\n            'f': \"276\",\n        },\n\"P2093\",\n{\n            'v': 6,\n            'f': \"6\",\n        },\n\"author name string\"],\n [{\n            'v': 277,\n            'f': \"277\",\n        },\n\"P4186\",\n{\n            'v': 6,\n            'f': \"6\",\n        },\n\"Australian Women's Register ID\"],\n [{\n            'v': 278,\n            'f': \"278\",\n        },\n\"P6745\",\n{\n            'v': 6,\n            'f': \"6\",\n        },\n\"Orlando author ID\"],\n [{\n            'v': 279,\n            'f': \"279\",\n        },\n\"P1932\",\n{\n            'v': 6,\n            'f': \"6\",\n        },\n\"stated as\"],\n [{\n            'v': 280,\n            'f': \"280\",\n        },\n\"P9780\",\n{\n            'v': 6,\n            'f': \"6\",\n        },\n\"The Women's Print History Project person ID\"],\n [{\n            'v': 281,\n            'f': \"281\",\n        },\n\"P7545\",\n{\n            'v': 6,\n            'f': \"6\",\n        },\n\"askArt person ID\"],\n [{\n            'v': 282,\n            'f': \"282\",\n        },\n\"P2454\",\n{\n            'v': 6,\n            'f': \"6\",\n        },\n\"KNAW past member ID\"],\n [{\n            'v': 283,\n            'f': \"283\",\n        },\n\"P172\",\n{\n            'v': 6,\n            'f': \"6\",\n        },\n\"ethnic group\"],\n [{\n            'v': 284,\n            'f': \"284\",\n        },\n\"P2174\",\n{\n            'v': 6,\n            'f': \"6\",\n        },\n\"Museum of Modern Art artist ID\"],\n [{\n            'v': 285,\n            'f': \"285\",\n        },\n\"P793\",\n{\n            'v': 6,\n            'f': \"6\",\n        },\n\"significant event\"],\n [{\n            'v': 286,\n            'f': \"286\",\n        },\n\"P6851\",\n{\n            'v': 6,\n            'f': \"6\",\n        },\n\"Biographical Dictionary of Iowa ID\"],\n [{\n            'v': 287,\n            'f': \"287\",\n        },\n\"P6194\",\n{\n            'v': 5,\n            'f': \"5\",\n        },\n\"Austrian Biographical Encylopedia ID\"],\n [{\n            'v': 288,\n            'f': \"288\",\n        },\n\"P6656\",\n{\n            'v': 5,\n            'f': \"5\",\n        },\n\"BHCL ID (former scheme)\"],\n [{\n            'v': 289,\n            'f': \"289\",\n        },\n\"P6224\",\n{\n            'v': 5,\n            'f': \"5\",\n        },\n\"level of description\"],\n [{\n            'v': 290,\n            'f': \"290\",\n        },\n\"P3965\",\n{\n            'v': 5,\n            'f': \"5\",\n        },\n\"Bridgeman artist ID\"],\n [{\n            'v': 291,\n            'f': \"291\",\n        },\n\"P3417\",\n{\n            'v': 5,\n            'f': \"5\",\n        },\n\"Quora topic ID\"],\n [{\n            'v': 292,\n            'f': \"292\",\n        },\n\"P8851\",\n{\n            'v': 5,\n            'f': \"5\",\n        },\n\"CONOR.SR ID\"],\n [{\n            'v': 293,\n            'f': \"293\",\n        },\n\"P1263\",\n{\n            'v': 5,\n            'f': \"5\",\n        },\n\"NNDB people ID\"],\n [{\n            'v': 294,\n            'f': \"294\",\n        },\n\"P9058\",\n{\n            'v': 5,\n            'f': \"5\",\n        },\n\"Fichier des personnes d\\u00e9c\\u00e9d\\u00e9es ID (matchID)\"],\n [{\n            'v': 295,\n            'f': \"295\",\n        },\n\"P3154\",\n{\n            'v': 5,\n            'f': \"5\",\n        },\n\"Runeberg author ID\"],\n [{\n            'v': 296,\n            'f': \"296\",\n        },\n\"P6394\",\n{\n            'v': 5,\n            'f': \"5\",\n        },\n\"ELNET ID\"],\n [{\n            'v': 297,\n            'f': \"297\",\n        },\n\"P8980\",\n{\n            'v': 5,\n            'f': \"5\",\n        },\n\"KANTO ID\"],\n [{\n            'v': 298,\n            'f': \"298\",\n        },\n\"P742\",\n{\n            'v': 5,\n            'f': \"5\",\n        },\n\"pseudonym\"],\n [{\n            'v': 299,\n            'f': \"299\",\n        },\n\"P2389\",\n{\n            'v': 5,\n            'f': \"5\",\n        },\n\"organization directed by the office or position\"],\n [{\n            'v': 300,\n            'f': \"300\",\n        },\n\"P2753\",\n{\n            'v': 5,\n            'f': \"5\",\n        },\n\"Dictionary of Canadian Biography ID\"],\n [{\n            'v': 301,\n            'f': \"301\",\n        },\n\"P2180\",\n{\n            'v': 5,\n            'f': \"5\",\n        },\n\"Kansallisbiografia ID\"],\n [{\n            'v': 302,\n            'f': \"302\",\n        },\n\"P212\",\n{\n            'v': 5,\n            'f': \"5\",\n        },\n\"ISBN-13\"],\n [{\n            'v': 303,\n            'f': \"303\",\n        },\n\"P4145\",\n{\n            'v': 4,\n            'f': \"4\",\n        },\n\"Athenaeum person ID\"],\n [{\n            'v': 304,\n            'f': \"304\",\n        },\n\"P3740\",\n{\n            'v': 4,\n            'f': \"4\",\n        },\n\"number of works\"],\n [{\n            'v': 305,\n            'f': \"305\",\n        },\n\"P1375\",\n{\n            'v': 4,\n            'f': \"4\",\n        },\n\"NSK ID\"],\n [{\n            'v': 306,\n            'f': \"306\",\n        },\n\"P6735\",\n{\n            'v': 4,\n            'f': \"4\",\n        },\n\"Watercolour World artist ID\"],\n [{\n            'v': 307,\n            'f': \"307\",\n        },\n\"P155\",\n{\n            'v': 4,\n            'f': \"4\",\n        },\n\"follows\"],\n [{\n            'v': 308,\n            'f': \"308\",\n        },\n\"P4431\",\n{\n            'v': 4,\n            'f': \"4\",\n        },\n\"Google Doodle\"],\n [{\n            'v': 309,\n            'f': \"309\",\n        },\n\"P2924\",\n{\n            'v': 4,\n            'f': \"4\",\n        },\n\"Great Russian Encyclopedia Online ID\"],\n [{\n            'v': 310,\n            'f': \"310\",\n        },\n\"P1430\",\n{\n            'v': 4,\n            'f': \"4\",\n        },\n\"OpenPlaques subject ID\"],\n [{\n            'v': 311,\n            'f': \"311\",\n        },\n\"P6208\",\n{\n            'v': 4,\n            'f': \"4\",\n        },\n\"award rationale\"],\n [{\n            'v': 312,\n            'f': \"312\",\n        },\n\"P1013\",\n{\n            'v': 4,\n            'f': \"4\",\n        },\n\"criterion used\"],\n [{\n            'v': 313,\n            'f': \"313\",\n        },\n\"P1971\",\n{\n            'v': 4,\n            'f': \"4\",\n        },\n\"number of children\"],\n [{\n            'v': 314,\n            'f': \"314\",\n        },\n\"P6829\",\n{\n            'v': 4,\n            'f': \"4\",\n        },\n\"Dictionary of Irish Biography ID\"],\n [{\n            'v': 315,\n            'f': \"315\",\n        },\n\"P1710\",\n{\n            'v': 4,\n            'f': \"4\",\n        },\n\"S\\u00e4chsische Biografie (GND) ID\"],\n [{\n            'v': 316,\n            'f': \"316\",\n        },\n\"P640\",\n{\n            'v': 4,\n            'f': \"4\",\n        },\n\"L\\u00e9onore ID\"],\n [{\n            'v': 317,\n            'f': \"317\",\n        },\n\"P8349\",\n{\n            'v': 4,\n            'f': \"4\",\n        },\n\"Proleksis enciklopedija ID\"],\n [{\n            'v': 318,\n            'f': \"318\",\n        },\n\"P2639\",\n{\n            'v': 4,\n            'f': \"4\",\n        },\n\"Filmportal ID\"],\n [{\n            'v': 319,\n            'f': \"319\",\n        },\n\"P7444\",\n{\n            'v': 4,\n            'f': \"4\",\n        },\n\"Rijksmuseum Research Library authority ID\"],\n [{\n            'v': 320,\n            'f': \"320\",\n        },\n\"P4399\",\n{\n            'v': 4,\n            'f': \"4\",\n        },\n\"Ita\\u00fa Cultural ID\"],\n [{\n            'v': 321,\n            'f': \"321\",\n        },\n\"P1473\",\n{\n            'v': 4,\n            'f': \"4\",\n        },\n\"BLPL author ID\"],\n [{\n            'v': 322,\n            'f': \"322\",\n        },\n\"P4759\",\n{\n            'v': 4,\n            'f': \"4\",\n        },\n\"Luminous-Lint ID\"],\n [{\n            'v': 323,\n            'f': \"323\",\n        },\n\"P2014\",\n{\n            'v': 4,\n            'f': \"4\",\n        },\n\"Museum of Modern Art work ID\"],\n [{\n            'v': 324,\n            'f': \"324\",\n        },\n\"P6535\",\n{\n            'v': 4,\n            'f': \"4\",\n        },\n\"BHL part ID\"],\n [{\n            'v': 325,\n            'f': \"325\",\n        },\n\"P1957\",\n{\n            'v': 4,\n            'f': \"4\",\n        },\n\"Wikisource index page URL\"],\n [{\n            'v': 326,\n            'f': \"326\",\n        },\n\"P7682\",\n{\n            'v': 4,\n            'f': \"4\",\n        },\n\"National Library of New Zealand ID\"],\n [{\n            'v': 327,\n            'f': \"327\",\n        },\n\"P433\",\n{\n            'v': 4,\n            'f': \"4\",\n        },\n\"issue\"],\n [{\n            'v': 328,\n            'f': \"328\",\n        },\n\"P8687\",\n{\n            'v': 4,\n            'f': \"4\",\n        },\n\"social media followers\"],\n [{\n            'v': 329,\n            'f': \"329\",\n        },\n\"P3794\",\n{\n            'v': 3,\n            'f': \"3\",\n        },\n\"Dictionary of Sydney ID\"],\n [{\n            'v': 330,\n            'f': \"330\",\n        },\n\"P9160\",\n{\n            'v': 3,\n            'f': \"3\",\n        },\n\"Biographical Dictionary of the Czech Lands ID\"],\n [{\n            'v': 331,\n            'f': \"331\",\n        },\n\"P4293\",\n{\n            'v': 3,\n            'f': \"3\",\n        },\n\"PM20 folder ID\"],\n [{\n            'v': 332,\n            'f': \"332\",\n        },\n\"P5592\",\n{\n            'v': 3,\n            'f': \"3\",\n        },\n\"number of works accessible online\"],\n [{\n            'v': 333,\n            'f': \"333\",\n        },\n\"P8849\",\n{\n            'v': 3,\n            'f': \"3\",\n        },\n\"CONOR.BG ID\"],\n [{\n            'v': 334,\n            'f': \"334\",\n        },\n\"P4491\",\n{\n            'v': 3,\n            'f': \"3\",\n        },\n\"Isidore scholar ID\"],\n [{\n            'v': 335,\n            'f': \"335\",\n        },\n\"P4928\",\n{\n            'v': 3,\n            'f': \"3\",\n        },\n\"Ricorso author ID\"],\n [{\n            'v': 336,\n            'f': \"336\",\n        },\n\"P2963\",\n{\n            'v': 3,\n            'f': \"3\",\n        },\n\"Goodreads author ID\"],\n [{\n            'v': 337,\n            'f': \"337\",\n        },\n\"P241\",\n{\n            'v': 3,\n            'f': \"3\",\n        },\n\"military branch\"],\n [{\n            'v': 338,\n            'f': \"338\",\n        },\n\"P156\",\n{\n            'v': 3,\n            'f': \"3\",\n        },\n\"followed by\"],\n [{\n            'v': 339,\n            'f': \"339\",\n        },\n\"P7666\",\n{\n            'v': 3,\n            'f': \"3\",\n        },\n\"Visuotin\\u0117 lietuvi\\u0173 enciklopedija ID\"],\n [{\n            'v': 340,\n            'f': \"340\",\n        },\n\"P5508\",\n{\n            'v': 3,\n            'f': \"3\",\n        },\n\"archINFORM person or group ID\"],\n [{\n            'v': 341,\n            'f': \"341\",\n        },\n\"P9853\",\n{\n            'v': 3,\n            'f': \"3\",\n        },\n\"Australian Medical Pioneers Index ID\"],\n [{\n            'v': 342,\n            'f': \"342\",\n        },\n\"P97\",\n{\n            'v': 3,\n            'f': \"3\",\n        },\n\"noble title\"],\n [{\n            'v': 343,\n            'f': \"343\",\n        },\n\"P5063\",\n{\n            'v': 3,\n            'f': \"3\",\n        },\n\"Interlingual Index ID\"],\n [{\n            'v': 344,\n            'f': \"344\",\n        },\n\"P7369\",\n{\n            'v': 3,\n            'f': \"3\",\n        },\n\"National Library of Chile ID\"],\n [{\n            'v': 345,\n            'f': \"345\",\n        },\n\"P2450\",\n{\n            'v': 3,\n            'f': \"3\",\n        },\n\"Encyclop\\u00e6dia Britannica contributor ID\"],\n [{\n            'v': 346,\n            'f': \"346\",\n        },\n\"P4553\",\n{\n            'v': 3,\n            'f': \"3\",\n        },\n\"RA Collections ID\"],\n [{\n            'v': 347,\n            'f': \"347\",\n        },\n\"P9738\",\n{\n            'v': 3,\n            'f': \"3\",\n        },\n\"IFPNI author ID\"],\n [{\n            'v': 348,\n            'f': \"348\",\n        },\n\"P7029\",\n{\n            'v': 3,\n            'f': \"3\",\n        },\n\"National Library of Russia ID\"],\n [{\n            'v': 349,\n            'f': \"349\",\n        },\n\"P2715\",\n{\n            'v': 3,\n            'f': \"3\",\n        },\n\"elected in\"],\n [{\n            'v': 350,\n            'f': \"350\",\n        },\n\"P2937\",\n{\n            'v': 3,\n            'f': \"3\",\n        },\n\"parliamentary term\"],\n [{\n            'v': 351,\n            'f': \"351\",\n        },\n\"P3835\",\n{\n            'v': 3,\n            'f': \"3\",\n        },\n\"Mendeley person ID\"],\n [{\n            'v': 352,\n            'f': \"352\",\n        },\n\"P1801\",\n{\n            'v': 3,\n            'f': \"3\",\n        },\n\"commemorative plaque image\"],\n [{\n            'v': 353,\n            'f': \"353\",\n        },\n\"P3005\",\n{\n            'v': 3,\n            'f': \"3\",\n        },\n\"valid in place\"],\n [{\n            'v': 354,\n            'f': \"354\",\n        },\n\"P4459\",\n{\n            'v': 3,\n            'f': \"3\",\n        },\n\"Spanish Biographical Dictionary ID\"],\n [{\n            'v': 355,\n            'f': \"355\",\n        },\n\"P8854\",\n{\n            'v': 3,\n            'f': \"3\",\n        },\n\"Salzburgwiki ID\"],\n [{\n            'v': 356,\n            'f': \"356\",\n        },\n\"P3956\",\n{\n            'v': 3,\n            'f': \"3\",\n        },\n\"National Academy of Medicine (France) member ID\"],\n [{\n            'v': 357,\n            'f': \"357\",\n        },\n\"P7982\",\n{\n            'v': 3,\n            'f': \"3\",\n        },\n\"Hrvatska enciklopedija ID\"],\n [{\n            'v': 358,\n            'f': \"358\",\n        },\n\"P3219\",\n{\n            'v': 3,\n            'f': \"3\",\n        },\n\"Encyclop\\u00e6dia Universalis ID\"],\n [{\n            'v': 359,\n            'f': \"359\",\n        },\n\"P2977\",\n{\n            'v': 3,\n            'f': \"3\",\n        },\n\"LBT person ID\"],\n [{\n            'v': 360,\n            'f': \"360\",\n        },\n\"P3365\",\n{\n            'v': 3,\n            'f': \"3\",\n        },\n\"Treccani ID\"],\n [{\n            'v': 361,\n            'f': \"361\",\n        },\n\"P5504\",\n{\n            'v': 3,\n            'f': \"3\",\n        },\n\"RISM ID\"],\n [{\n            'v': 362,\n            'f': \"362\",\n        },\n\"P8795\",\n{\n            'v': 3,\n            'f': \"3\",\n        },\n\"General Diamond Catalogue ID\"],\n [{\n            'v': 363,\n            'f': \"363\",\n        },\n\"P3847\",\n{\n            'v': 3,\n            'f': \"3\",\n        },\n\"Open Library subject ID\"],\n [{\n            'v': 364,\n            'f': \"364\",\n        },\n\"P5380\",\n{\n            'v': 3,\n            'f': \"3\",\n        },\n\"National Academy of Sciences member ID\"],\n [{\n            'v': 365,\n            'f': \"365\",\n        },\n\"P6015\",\n{\n            'v': 3,\n            'f': \"3\",\n        },\n\"Handbook of Texas ID\"],\n [{\n            'v': 366,\n            'f': \"366\",\n        },\n\"P3187\",\n{\n            'v': 3,\n            'f': \"3\",\n        },\n\"Marburger Professorenkatalog ID\"],\n [{\n            'v': 367,\n            'f': \"367\",\n        },\n\"P6241\",\n{\n            'v': 3,\n            'f': \"3\",\n        },\n\"collection creator\"],\n [{\n            'v': 368,\n            'f': \"368\",\n        },\n\"P611\",\n{\n            'v': 3,\n            'f': \"3\",\n        },\n\"religious order\"],\n [{\n            'v': 369,\n            'f': \"369\",\n        },\n\"P361\",\n{\n            'v': 3,\n            'f': \"3\",\n        },\n\"part of\"],\n [{\n            'v': 370,\n            'f': \"370\",\n        },\n\"P1309\",\n{\n            'v': 3,\n            'f': \"3\",\n        },\n\"EGAXA ID\"],\n [{\n            'v': 371,\n            'f': \"371\",\n        },\n\"P7769\",\n{\n            'v': 3,\n            'f': \"3\",\n        },\n\"Australian National Maritime Museum person ID\"],\n [{\n            'v': 372,\n            'f': \"372\",\n        },\n\"P6333\",\n{\n            'v': 3,\n            'f': \"3\",\n        },\n\"title of broader work\"],\n [{\n            'v': 373,\n            'f': \"373\",\n        },\n\"P7691\",\n{\n            'v': 3,\n            'f': \"3\",\n        },\n\"The Oregon Encyclopedia ID\"],\n [{\n            'v': 374,\n            'f': \"374\",\n        },\n\"P9324\",\n{\n            'v': 3,\n            'f': \"3\",\n        },\n\"BiographySampo person ID\"],\n [{\n            'v': 375,\n            'f': \"375\",\n        },\n\"P7695\",\n{\n            'v': 3,\n            'f': \"3\",\n        },\n\"e-WV: The West Virginia Encyclopedia ID\"],\n [{\n            'v': 376,\n            'f': \"376\",\n        },\n\"P781\",\n{\n            'v': 3,\n            'f': \"3\",\n        },\n\"SIKART ID\"],\n [{\n            'v': 377,\n            'f': \"377\",\n        },\n\"P8116\",\n{\n            'v': 3,\n            'f': \"3\",\n        },\n\"Encyclopedia of Brno History person ID\"],\n [{\n            'v': 378,\n            'f': \"378\",\n        },\n\"P5597\",\n{\n            'v': 2,\n            'f': \"2\",\n        },\n\"Artcyclopedia artist ID\"],\n [{\n            'v': 379,\n            'f': \"379\",\n        },\n\"P7842\",\n{\n            'v': 2,\n            'f': \"2\",\n        },\n\"Vienna History Wiki ID\"],\n [{\n            'v': 380,\n            'f': \"380\",\n        },\n\"P9322\",\n{\n            'v': 2,\n            'f': \"2\",\n        },\n\"SVKKL authority ID\"],\n [{\n            'v': 381,\n            'f': \"381\",\n        },\n\"P7349\",\n{\n            'v': 2,\n            'f': \"2\",\n        },\n\"Gazetteer for Scotland person ID\"],\n [{\n            'v': 382,\n            'f': \"382\",\n        },\n\"P5374\",\n{\n            'v': 2,\n            'f': \"2\",\n        },\n\"Acad\\u00e9mie des sciences d'outre-mer member ID\"],\n [{\n            'v': 383,\n            'f': \"383\",\n        },\n\"P8547\",\n{\n            'v': 2,\n            'f': \"2\",\n        },\n\"BHF author ID\"],\n [{\n            'v': 384,\n            'f': \"384\",\n        },\n\"P5715\",\n{\n            'v': 2,\n            'f': \"2\",\n        },\n\"Academia.edu profile URL\"],\n [{\n            'v': 385,\n            'f': \"385\",\n        },\n\"P8631\",\n{\n            'v': 2,\n            'f': \"2\",\n        },\n\"Canadian Women Artists History Initiative ID\"],\n [{\n            'v': 386,\n            'f': \"386\",\n        },\n\"P136\",\n{\n            'v': 2,\n            'f': \"2\",\n        },\n\"genre\"],\n [{\n            'v': 387,\n            'f': \"387\",\n        },\n\"P195\",\n{\n            'v': 2,\n            'f': \"2\",\n        },\n\"collection\"],\n [{\n            'v': 388,\n            'f': \"388\",\n        },\n\"P549\",\n{\n            'v': 2,\n            'f': \"2\",\n        },\n\"Mathematics Genealogy Project ID\"],\n [{\n            'v': 389,\n            'f': \"389\",\n        },\n\"P131\",\n{\n            'v': 2,\n            'f': \"2\",\n        },\n\"located in the administrative territorial entity\"],\n [{\n            'v': 390,\n            'f': \"390\",\n        },\n\"P4766\",\n{\n            'v': 2,\n            'f': \"2\",\n        },\n\"Australian honours ID\"],\n [{\n            'v': 391,\n            'f': \"391\",\n        },\n\"P2842\",\n{\n            'v': 2,\n            'f': \"2\",\n        },\n\"place of marriage\"],\n [{\n            'v': 392,\n            'f': \"392\",\n        },\n\"P396\",\n{\n            'v': 2,\n            'f': \"2\",\n        },\n\"SBN author ID\"],\n [{\n            'v': 393,\n            'f': \"393\",\n        },\n\"P1977\",\n{\n            'v': 2,\n            'f': \"2\",\n        },\n\"Les Archives du Spectacle person ID\"],\n [{\n            'v': 394,\n            'f': \"394\",\n        },\n\"P5739\",\n{\n            'v': 2,\n            'f': \"2\",\n        },\n\"Pontificia Universit\\u00e0 della Santa Croce ID\"],\n [{\n            'v': 395,\n            'f': \"395\",\n        },\n\"P8814\",\n{\n            'v': 2,\n            'f': \"2\",\n        },\n\"WordNet 3.1 Synset ID\"],\n [{\n            'v': 396,\n            'f': \"396\",\n        },\n\"P3988\",\n{\n            'v': 2,\n            'f': \"2\",\n        },\n\"National Library Board Singapore ID\"],\n [{\n            'v': 397,\n            'f': \"397\",\n        },\n\"P4808\",\n{\n            'v': 2,\n            'f': \"2\",\n        },\n\"Royal Academy new identifier\"],\n [{\n            'v': 398,\n            'f': \"398\",\n        },\n\"P345\",\n{\n            'v': 2,\n            'f': \"2\",\n        },\n\"IMDb ID\"],\n [{\n            'v': 399,\n            'f': \"399\",\n        },\n\"P50\",\n{\n            'v': 2,\n            'f': \"2\",\n        },\n\"author\"],\n [{\n            'v': 400,\n            'f': \"400\",\n        },\n\"P9299\",\n{\n            'v': 2,\n            'f': \"2\",\n        },\n\"OsobnostiRegionu.cz ID\"],\n [{\n            'v': 401,\n            'f': \"401\",\n        },\n\"P1564\",\n{\n            'v': 2,\n            'f': \"2\",\n        },\n\"At the Circulating Library ID\"],\n [{\n            'v': 402,\n            'f': \"402\",\n        },\n\"P7947\",\n{\n            'v': 2,\n            'f': \"2\",\n        },\n\"WeChangEd ID\"],\n [{\n            'v': 403,\n            'f': \"403\",\n        },\n\"P6868\",\n{\n            'v': 2,\n            'f': \"2\",\n        },\n\"Hoopla artist ID\"],\n [{\n            'v': 404,\n            'f': \"404\",\n        },\n\"P3023\",\n{\n            'v': 2,\n            'f': \"2\",\n        },\n\"Legacies of British Slave-ownership person ID\"],\n [{\n            'v': 405,\n            'f': \"405\",\n        },\n\"P2015\",\n{\n            'v': 2,\n            'f': \"2\",\n        },\n\"Hansard (1803\\u20132005) ID\"],\n [{\n            'v': 406,\n            'f': \"406\",\n        },\n\"P4471\",\n{\n            'v': 2,\n            'f': \"2\",\n        },\n\"Rush Parliamentary Archive ID\"],\n [{\n            'v': 407,\n            'f': \"407\",\n        },\n\"P3602\",\n{\n            'v': 2,\n            'f': \"2\",\n        },\n\"candidacy in election\"],\n [{\n            'v': 408,\n            'f': \"408\",\n        },\n\"P1788\",\n{\n            'v': 2,\n            'f': \"2\",\n        },\n\"DVN ID\"],\n [{\n            'v': 409,\n            'f': \"409\",\n        },\n\"P9352\",\n{\n            'v': 2,\n            'f': \"2\",\n        },\n\"Portrait Archive ID\"],\n [{\n            'v': 410,\n            'f': \"410\",\n        },\n\"P1890\",\n{\n            'v': 2,\n            'f': \"2\",\n        },\n\"CCAB ID\"],\n [{\n            'v': 411,\n            'f': \"411\",\n        },\n\"P947\",\n{\n            'v': 2,\n            'f': \"2\",\n        },\n\"RSL ID (person)\"],\n [{\n            'v': 412,\n            'f': \"412\",\n        },\n\"P2799\",\n{\n            'v': 2,\n            'f': \"2\",\n        },\n\"BVMC person ID\"],\n [{\n            'v': 413,\n            'f': \"413\",\n        },\n\"P5731\",\n{\n            'v': 2,\n            'f': \"2\",\n        },\n\"Angelicum ID\"],\n [{\n            'v': 414,\n            'f': \"414\",\n        },\n\"P3429\",\n{\n            'v': 2,\n            'f': \"2\",\n        },\n\"Electronic Enlightenment ID\"],\n [{\n            'v': 415,\n            'f': \"415\",\n        },\n\"P4223\",\n{\n            'v': 2,\n            'f': \"2\",\n        },\n\"Treccani's Enciclopedia Italiana ID\"],\n [{\n            'v': 416,\n            'f': \"416\",\n        },\n\"P7753\",\n{\n            'v': 2,\n            'f': \"2\",\n        },\n\"Projekt Gutenberg-DE author ID\"],\n [{\n            'v': 417,\n            'f': \"417\",\n        },\n\"P7865\",\n{\n            'v': 2,\n            'f': \"2\",\n        },\n\"CoBiS author ID\"],\n [{\n            'v': 418,\n            'f': \"418\",\n        },\n\"P1670\",\n{\n            'v': 2,\n            'f': \"2\",\n        },\n\"Canadiana Authorities ID (former scheme)\"],\n [{\n            'v': 419,\n            'f': \"419\",\n        },\n\"P7445\",\n{\n            'v': 2,\n            'f': \"2\",\n        },\n\"Basis Wien person ID\"],\n [{\n            'v': 420,\n            'f': \"420\",\n        },\n\"P8750\",\n{\n            'v': 2,\n            'f': \"2\",\n        },\n\"Unione Romana Biblioteche Scientifiche ID\"],\n [{\n            'v': 421,\n            'f': \"421\",\n        },\n\"P5421\",\n{\n            'v': 2,\n            'f': \"2\",\n        },\n\"Trading Card Database person ID\"],\n [{\n            'v': 422,\n            'f': \"422\",\n        },\n\"P9507\",\n{\n            'v': 2,\n            'f': \"2\",\n        },\n\"NBM authority ID\"],\n [{\n            'v': 423,\n            'f': \"423\",\n        },\n\"P888\",\n{\n            'v': 2,\n            'f': \"2\",\n        },\n\"JSTOR article ID\"],\n [{\n            'v': 424,\n            'f': \"424\",\n        },\n\"P710\",\n{\n            'v': 2,\n            'f': \"2\",\n        },\n\"participant\"],\n [{\n            'v': 425,\n            'f': \"425\",\n        },\n\"P2080\",\n{\n            'v': 2,\n            'f': \"2\",\n        },\n\"AcademiaNet ID\"],\n [{\n            'v': 426,\n            'f': \"426\",\n        },\n\"P2798\",\n{\n            'v': 2,\n            'f': \"2\",\n        },\n\"Loop ID\"],\n [{\n            'v': 427,\n            'f': \"427\",\n        },\n\"P5239\",\n{\n            'v': 2,\n            'f': \"2\",\n        },\n\"Artists in Canada record number\"],\n [{\n            'v': 428,\n            'f': \"428\",\n        },\n\"P5395\",\n{\n            'v': 2,\n            'f': \"2\",\n        },\n\"Canadian Encyclopedia article ID\"],\n [{\n            'v': 429,\n            'f': \"429\",\n        },\n\"P9054\",\n{\n            'v': 2,\n            'f': \"2\",\n        },\n\"National Historic People ID\"],\n [{\n            'v': 430,\n            'f': \"430\",\n        },\n\"P1325\",\n{\n            'v': 2,\n            'f': \"2\",\n        },\n\"external data available at\"],\n [{\n            'v': 431,\n            'f': \"431\",\n        },\n\"P8317\",\n{\n            'v': 2,\n            'f': \"2\",\n        },\n\"Philadelphia Museum of Art entity ID\"],\n [{\n            'v': 432,\n            'f': \"432\",\n        },\n\"P9081\",\n{\n            'v': 2,\n            'f': \"2\",\n        },\n\"SEARCH on line catalogue ID\"],\n [{\n            'v': 433,\n            'f': \"433\",\n        },\n\"P6300\",\n{\n            'v': 2,\n            'f': \"2\",\n        },\n\"Hymnary author ID\"],\n [{\n            'v': 434,\n            'f': \"434\",\n        },\n\"P3074\",\n{\n            'v': 2,\n            'f': \"2\",\n        },\n\"Grace's Guide ID\"],\n [{\n            'v': 435,\n            'f': \"435\",\n        },\n\"P6878\",\n{\n            'v': 2,\n            'f': \"2\",\n        },\n\"Amburger database ID\"],\n [{\n            'v': 436,\n            'f': \"436\",\n        },\n\"P112\",\n{\n            'v': 2,\n            'f': \"2\",\n        },\n\"founded by\"],\n [{\n            'v': 437,\n            'f': \"437\",\n        },\n\"P3946\",\n{\n            'v': 2,\n            'f': \"2\",\n        },\n\"Dictionary Grierson ID\"],\n [{\n            'v': 438,\n            'f': \"438\",\n        },\n\"P10227\",\n{\n            'v': 2,\n            'f': \"2\",\n        },\n\"National Library of Ireland ID\"],\n [{\n            'v': 439,\n            'f': \"439\",\n        },\n\"P459\",\n{\n            'v': 2,\n            'f': \"2\",\n        },\n\"determination method\"],\n [{\n            'v': 440,\n            'f': \"440\",\n        },\n\"P518\",\n{\n            'v': 2,\n            'f': \"2\",\n        },\n\"applies to part\"],\n [{\n            'v': 441,\n            'f': \"441\",\n        },\n\"P2041\",\n{\n            'v': 2,\n            'f': \"2\",\n        },\n\"National Gallery of Victoria artist ID\"],\n [{\n            'v': 442,\n            'f': \"442\",\n        },\n\"P6366\",\n{\n            'v': 2,\n            'f': \"2\",\n        },\n\"Microsoft Academic ID\"],\n [{\n            'v': 443,\n            'f': \"443\",\n        },\n\"P511\",\n{\n            'v': 2,\n            'f': \"2\",\n        },\n\"honorific prefix\"],\n [{\n            'v': 444,\n            'f': \"444\",\n        },\n\"P1367\",\n{\n            'v': 2,\n            'f': \"2\",\n        },\n\"Art UK artist ID\"],\n [{\n            'v': 445,\n            'f': \"445\",\n        },\n\"P4241\",\n{\n            'v': 2,\n            'f': \"2\",\n        },\n\"refine date\"],\n [{\n            'v': 446,\n            'f': \"446\",\n        },\n\"P8462\",\n{\n            'v': 2,\n            'f': \"2\",\n        },\n\"Political Graveyard politician ID\"],\n [{\n            'v': 447,\n            'f': \"447\",\n        },\n\"P2941\",\n{\n            'v': 2,\n            'f': \"2\",\n        },\n\"Munk's Roll ID\"],\n [{\n            'v': 448,\n            'f': \"448\",\n        },\n\"P3368\",\n{\n            'v': 2,\n            'f': \"2\",\n        },\n\"Prabook ID\"],\n [{\n            'v': 449,\n            'f': \"449\",\n        },\n\"P410\",\n{\n            'v': 2,\n            'f': \"2\",\n        },\n\"military rank\"],\n [{\n            'v': 450,\n            'f': \"450\",\n        },\n\"P9152\",\n{\n            'v': 2,\n            'f': \"2\",\n        },\n\"CollectieGelderland creator ID\"],\n [{\n            'v': 451,\n            'f': \"451\",\n        },\n\"P2003\",\n{\n            'v': 2,\n            'f': \"2\",\n        },\n\"Instagram username\"],\n [{\n            'v': 452,\n            'f': \"452\",\n        },\n\"P6375\",\n{\n            'v': 2,\n            'f': \"2\",\n        },\n\"street address\"],\n [{\n            'v': 453,\n            'f': \"453\",\n        },\n\"P53\",\n{\n            'v': 1,\n            'f': \"1\",\n        },\n\"family\"],\n [{\n            'v': 454,\n            'f': \"454\",\n        },\n\"P1284\",\n{\n            'v': 1,\n            'f': \"1\",\n        },\n\"Munzinger person ID\"],\n [{\n            'v': 455,\n            'f': \"455\",\n        },\n\"P5821\",\n{\n            'v': 1,\n            'f': \"1\",\n        },\n\"ArhivX LOD\"],\n [{\n            'v': 456,\n            'f': \"456\",\n        },\n\"P5492\",\n{\n            'v': 1,\n            'f': \"1\",\n        },\n\"EDIT16 catalogue author ID\"],\n [{\n            'v': 457,\n            'f': \"457\",\n        },\n\"P8067\",\n{\n            'v': 1,\n            'f': \"1\",\n        },\n\"Macdonald Dictionary ID\"],\n [{\n            'v': 458,\n            'f': \"458\",\n        },\n\"P5695\",\n{\n            'v': 1,\n            'f': \"1\",\n        },\n\"Bibliopoche author ID\"],\n [{\n            'v': 459,\n            'f': \"459\",\n        },\n\"P6234\",\n{\n            'v': 1,\n            'f': \"1\",\n        },\n\"Biographie nationale de Belgique ID\"],\n [{\n            'v': 460,\n            'f': \"460\",\n        },\n\"P8413\",\n{\n            'v': 1,\n            'f': \"1\",\n        },\n\"academic appointment\"],\n [{\n            'v': 461,\n            'f': \"461\",\n        },\n\"P1543\",\n{\n            'v': 1,\n            'f': \"1\",\n        },\n\"monogram\"],\n [{\n            'v': 462,\n            'f': \"462\",\n        },\n\"P170\",\n{\n            'v': 1,\n            'f': \"1\",\n        },\n\"creator\"],\n [{\n            'v': 463,\n            'f': \"463\",\n        },\n\"P6231\",\n{\n            'v': 1,\n            'f': \"1\",\n        },\n\"BDELIS ID\"],\n [{\n            'v': 464,\n            'f': \"464\",\n        },\n\"P2716\",\n{\n            'v': 1,\n            'f': \"1\",\n        },\n\"collage image\"],\n [{\n            'v': 465,\n            'f': \"465\",\n        },\n\"P9720\",\n{\n            'v': 1,\n            'f': \"1\",\n        },\n\"fotoCH photographer ID\"],\n [{\n            'v': 466,\n            'f': \"466\",\n        },\n\"P3788\",\n{\n            'v': 1,\n            'f': \"1\",\n        },\n\"BNMM authority ID\"],\n [{\n            'v': 467,\n            'f': \"467\",\n        },\n\"P4158\",\n{\n            'v': 1,\n            'f': \"1\",\n        },\n\"autores.ar ID\"],\n [{\n            'v': 468,\n            'f': \"468\",\n        },\n\"P625\",\n{\n            'v': 1,\n            'f': \"1\",\n        },\n\"coordinate location\"],\n [{\n            'v': 469,\n            'f': \"469\",\n        },\n\"P7697\",\n{\n            'v': 1,\n            'f': \"1\",\n        },\n\"Maine: An Encyclopedia ID\"],\n [{\n            'v': 470,\n            'f': \"470\",\n        },\n\"P4890\",\n{\n            'v': 1,\n            'f': \"1\",\n        },\n\"EPHE ID\"],\n [{\n            'v': 471,\n            'f': \"471\",\n        },\n\"P3392\",\n{\n            'v': 1,\n            'f': \"1\",\n        },\n\"Surman ID\"],\n [{\n            'v': 472,\n            'f': \"472\",\n        },\n\"P7498\",\n{\n            'v': 1,\n            'f': \"1\",\n        },\n\"Women Film Pioneers ID\"],\n [{\n            'v': 473,\n            'f': \"473\",\n        },\n\"P7026\",\n{\n            'v': 1,\n            'f': \"1\",\n        },\n\"Lebanese National Library ID\"],\n [{\n            'v': 474,\n            'f': \"474\",\n        },\n\"P8350\",\n{\n            'v': 1,\n            'f': \"1\",\n        },\n\"Singapore Infopedia ID\"],\n [{\n            'v': 475,\n            'f': \"475\",\n        },\n\"P4574\",\n{\n            'v': 1,\n            'f': \"1\",\n        },\n\"Norwegian historical register of persons ID\"],\n [{\n            'v': 476,\n            'f': \"476\",\n        },\n\"P2191\",\n{\n            'v': 1,\n            'f': \"1\",\n        },\n\"Vegetti Catalog of Fantastic Literature NILF ID\"],\n [{\n            'v': 477,\n            'f': \"477\",\n        },\n\"P7024\",\n{\n            'v': 1,\n            'f': \"1\",\n        },\n\"Flemish Public Libraries ID\"],\n [{\n            'v': 478,\n            'f': \"478\",\n        },\n\"P4819\",\n{\n            'v': 1,\n            'f': \"1\",\n        },\n\"Swedish Portrait Archive ID\"],\n [{\n            'v': 479,\n            'f': \"479\",\n        },\n\"P8234\",\n{\n            'v': 1,\n            'f': \"1\",\n        },\n\"LiederNet author ID\"],\n [{\n            'v': 480,\n            'f': \"480\",\n        },\n\"P528\",\n{\n            'v': 1,\n            'f': \"1\",\n        },\n\"catalog code\"],\n [{\n            'v': 481,\n            'f': \"481\",\n        },\n\"P4985\",\n{\n            'v': 1,\n            'f': \"1\",\n        },\n\"TMDb person ID\"],\n [{\n            'v': 482,\n            'f': \"482\",\n        },\n\"P5365\",\n{\n            'v': 1,\n            'f': \"1\",\n        },\n\"Internet Book Database of Fiction writer ID\"],\n [{\n            'v': 483,\n            'f': \"483\",\n        },\n\"P10085\",\n{\n            'v': 1,\n            'f': \"1\",\n        },\n\"biografiA ID\"],\n [{\n            'v': 484,\n            'f': \"484\",\n        },\n\"P8085\",\n{\n            'v': 1,\n            'f': \"1\",\n        },\n\"Curran Index contributor ID\"],\n [{\n            'v': 485,\n            'f': \"485\",\n        },\n\"P7941\",\n{\n            'v': 1,\n            'f': \"1\",\n        },\n\"Biografisch Woordenboek van Nederland: 1880-2000 ID\"],\n [{\n            'v': 486,\n            'f': \"486\",\n        },\n\"P724\",\n{\n            'v': 1,\n            'f': \"1\",\n        },\n\"Internet Archive ID\"],\n [{\n            'v': 487,\n            'f': \"487\",\n        },\n\"P7474\",\n{\n            'v': 1,\n            'f': \"1\",\n        },\n\"Online Cenotaph ID\"],\n [{\n            'v': 488,\n            'f': \"488\",\n        },\n\"P8713\",\n{\n            'v': 1,\n            'f': \"1\",\n        },\n\"Stadtwiki Dresden article\"],\n [{\n            'v': 489,\n            'f': \"489\",\n        },\n\"P3106\",\n{\n            'v': 1,\n            'f': \"1\",\n        },\n\"Guardian topic ID\"],\n [{\n            'v': 490,\n            'f': \"490\",\n        },\n\"P827\",\n{\n            'v': 1,\n            'f': \"1\",\n        },\n\"BBC programme ID\"],\n [{\n            'v': 491,\n            'f': \"491\",\n        },\n\"P866\",\n{\n            'v': 1,\n            'f': \"1\",\n        },\n\"Perlentaucher ID\"],\n [{\n            'v': 492,\n            'f': \"492\",\n        },\n\"P1556\",\n{\n            'v': 1,\n            'f': \"1\",\n        },\n\"zbMATH author ID\"],\n [{\n            'v': 493,\n            'f': \"493\",\n        },\n\"P443\",\n{\n            'v': 1,\n            'f': \"1\",\n        },\n\"pronunciation audio\"],\n [{\n            'v': 494,\n            'f': \"494\",\n        },\n\"P4114\",\n{\n            'v': 1,\n            'f': \"1\",\n        },\n\"ADK member ID\"],\n [{\n            'v': 495,\n            'f': \"495\",\n        },\n\"P4955\",\n{\n            'v': 1,\n            'f': \"1\",\n        },\n\"MR Author ID\"],\n [{\n            'v': 496,\n            'f': \"496\",\n        },\n\"P5441\",\n{\n            'v': 1,\n            'f': \"1\",\n        },\n\"Encyclopaedia Herder person ID\"],\n [{\n            'v': 497,\n            'f': \"497\",\n        },\n\"P5516\",\n{\n            'v': 1,\n            'f': \"1\",\n        },\n\"Virtual Laboratory person ID\"],\n [{\n            'v': 498,\n            'f': \"498\",\n        },\n\"P1299\",\n{\n            'v': 1,\n            'f': \"1\",\n        },\n\"depicted by\"],\n [{\n            'v': 499,\n            'f': \"499\",\n        },\n\"P1441\",\n{\n            'v': 1,\n            'f': \"1\",\n        },\n\"present in work\"],\n [{\n            'v': 500,\n            'f': \"500\",\n        },\n\"P5632\",\n{\n            'v': 1,\n            'f': \"1\",\n        },\n\"Persons of Indian Studies ID\"],\n [{\n            'v': 501,\n            'f': \"501\",\n        },\n\"P1150\",\n{\n            'v': 1,\n            'f': \"1\",\n        },\n\"Regensburg Classification\"],\n [{\n            'v': 502,\n            'f': \"502\",\n        },\n\"P6573\",\n{\n            'v': 1,\n            'f': \"1\",\n        },\n\"Klexikon article ID\"],\n [{\n            'v': 503,\n            'f': \"503\",\n        },\n\"P5905\",\n{\n            'v': 1,\n            'f': \"1\",\n        },\n\"Comic Vine ID\"],\n [{\n            'v': 504,\n            'f': \"504\",\n        },\n\"P6907\",\n{\n            'v': 1,\n            'f': \"1\",\n        },\n\"BVLarramendi ID\"],\n [{\n            'v': 505,\n            'f': \"505\",\n        },\n\"P7613\",\n{\n            'v': 1,\n            'f': \"1\",\n        },\n\"Biblioteche dei filosofi ID\"],\n [{\n            'v': 506,\n            'f': \"506\",\n        },\n\"P8172\",\n{\n            'v': 1,\n            'f': \"1\",\n        },\n\"Sejm-Wielki.pl profile ID\"],\n [{\n            'v': 507,\n            'f': \"507\",\n        },\n\"P1003\",\n{\n            'v': 1,\n            'f': \"1\",\n        },\n\"National Library of Romania ID\"],\n [{\n            'v': 508,\n            'f': \"508\",\n        },\n\"P8440\",\n{\n            'v': 1,\n            'f': \"1\",\n        },\n\"Personendatenbank Germania Sacra ID\"],\n [{\n            'v': 509,\n            'f': \"509\",\n        },\n\"P8589\",\n{\n            'v': 1,\n            'f': \"1\",\n        },\n\"Carl-Maria-von-Weber-Gesamtausgabe ID\"],\n [{\n            'v': 510,\n            'f': \"510\",\n        },\n\"P8669\",\n{\n            'v': 1,\n            'f': \"1\",\n        },\n\"Encyclopaedia Beliana ID\"],\n [{\n            'v': 511,\n            'f': \"511\",\n        },\n\"P8899\",\n{\n            'v': 1,\n            'f': \"1\",\n        },\n\"Swedish National Library Arken ID\"],\n [{\n            'v': 512,\n            'f': \"512\",\n        },\n\"P9179\",\n{\n            'v': 1,\n            'f': \"1\",\n        },\n\"Biblioteca Iglesia Nacional Espa\\u00f1ola en Roma ID\"],\n [{\n            'v': 513,\n            'f': \"513\",\n        },\n\"P9495\",\n{\n            'v': 1,\n            'f': \"1\",\n        },\n\"National Historical Museums of Sweden agent ID\"],\n [{\n            'v': 514,\n            'f': \"514\",\n        },\n\"P9626\",\n{\n            'v': 1,\n            'f': \"1\",\n        },\n\"Biographical Encyclopedia of Astronomers ID\"],\n [{\n            'v': 515,\n            'f': \"515\",\n        },\n\"P8749\",\n{\n            'v': 1,\n            'f': \"1\",\n        },\n\"Dictionary of Portuguese Historians ID\"],\n [{\n            'v': 516,\n            'f': \"516\",\n        },\n\"P4359\",\n{\n            'v': 1,\n            'f': \"1\",\n        },\n\"gravsted.dk ID\"],\n [{\n            'v': 517,\n            'f': \"517\",\n        },\n\"P8418\",\n{\n            'v': 1,\n            'f': \"1\",\n        },\n\"Oberwolfach mathematician ID\"],\n [{\n            'v': 518,\n            'f': \"518\",\n        },\n\"P6706\",\n{\n            'v': 1,\n            'f': \"1\",\n        },\n\"De Agostini ID\"],\n [{\n            'v': 519,\n            'f': \"519\",\n        },\n\"P9164\",\n{\n            'v': 1,\n            'f': \"1\",\n        },\n\"Svenska Institutet i Rom ID\"],\n [{\n            'v': 520,\n            'f': \"520\",\n        },\n\"P8748\",\n{\n            'v': 1,\n            'f': \"1\",\n        },\n\"Rheinland-Pf\\u00e4lzische Personendatenbank ID\"],\n [{\n            'v': 521,\n            'f': \"521\",\n        },\n\"P547\",\n{\n            'v': 1,\n            'f': \"1\",\n        },\n\"commemorates\"],\n [{\n            'v': 522,\n            'f': \"522\",\n        },\n\"P179\",\n{\n            'v': 1,\n            'f': \"1\",\n        },\n\"part of the series\"],\n [{\n            'v': 523,\n            'f': \"523\",\n        },\n\"P2592\",\n{\n            'v': 1,\n            'f': \"1\",\n        },\n\"Qu\\u00e9bec cultural heritage directory people identifier\"],\n [{\n            'v': 524,\n            'f': \"524\",\n        },\n\"P2536\",\n{\n            'v': 1,\n            'f': \"1\",\n        },\n\"Sandbox-External identifier\"],\n [{\n            'v': 525,\n            'f': \"525\",\n        },\n\"P7103\",\n{\n            'v': 1,\n            'f': \"1\",\n        },\n\"start of covered period\"],\n [{\n            'v': 526,\n            'f': \"526\",\n        },\n\"P7104\",\n{\n            'v': 1,\n            'f': \"1\",\n        },\n\"end of covered period\"],\n [{\n            'v': 527,\n            'f': \"527\",\n        },\n\"P6872\",\n{\n            'v': 1,\n            'f': \"1\",\n        },\n\"has written for\"],\n [{\n            'v': 528,\n            'f': \"528\",\n        },\n\"P4970\",\n{\n            'v': 1,\n            'f': \"1\",\n        },\n\"alternative name\"],\n [{\n            'v': 529,\n            'f': \"529\",\n        },\n\"P968\",\n{\n            'v': 1,\n            'f': \"1\",\n        },\n\"email address\"],\n [{\n            'v': 530,\n            'f': \"530\",\n        },\n\"P5489\",\n{\n            'v': 1,\n            'f': \"1\",\n        },\n\"artist-info artist ID\"],\n [{\n            'v': 531,\n            'f': \"531\",\n        },\n\"P4327\",\n{\n            'v': 1,\n            'f': \"1\",\n        },\n\"BHL bibliography ID\"],\n [{\n            'v': 532,\n            'f': \"532\",\n        },\n\"P5528\",\n{\n            'v': 1,\n            'f': \"1\",\n        },\n\"Belgian Heritage in Brazil ID\"],\n [{\n            'v': 533,\n            'f': \"533\",\n        },\n\"P3191\",\n{\n            'v': 1,\n            'f': \"1\",\n        },\n\"IMIS person ID\"],\n [{\n            'v': 534,\n            'f': \"534\",\n        },\n\"P1566\",\n{\n            'v': 1,\n            'f': \"1\",\n        },\n\"GeoNames ID\"],\n [{\n            'v': 535,\n            'f': \"535\",\n        },\n\"P1142\",\n{\n            'v': 1,\n            'f': \"1\",\n        },\n\"political ideology\"],\n [{\n            'v': 536,\n            'f': \"536\",\n        },\n\"P1436\",\n{\n            'v': 1,\n            'f': \"1\",\n        },\n\"collection or exhibition size\"],\n [{\n            'v': 537,\n            'f': \"537\",\n        },\n\"P957\",\n{\n            'v': 1,\n            'f': \"1\",\n        },\n\"ISBN-10\"],\n [{\n            'v': 538,\n            'f': \"538\",\n        },\n\"P9786\",\n{\n            'v': 1,\n            'f': \"1\",\n        },\n\"Joods Biografisch Woordenboek ID\"],\n [{\n            'v': 539,\n            'f': \"539\",\n        },\n\"P5981\",\n{\n            'v': 1,\n            'f': \"1\",\n        },\n\"Encyclopedia Virginia ID\"],\n [{\n            'v': 540,\n            'f': \"540\",\n        },\n\"P1444\",\n{\n            'v': 1,\n            'f': \"1\",\n        },\n\"destination point\"],\n [{\n            'v': 541,\n            'f': \"541\",\n        },\n\"P4613\",\n{\n            'v': 1,\n            'f': \"1\",\n        },\n\"Encyclopedia of Modern Ukraine ID\"],\n [{\n            'v': 542,\n            'f': \"542\",\n        },\n\"P2944\",\n{\n            'v': 1,\n            'f': \"1\",\n        },\n\"Plarr ID\"],\n [{\n            'v': 543,\n            'f': \"543\",\n        },\n\"P1953\",\n{\n            'v': 1,\n            'f': \"1\",\n        },\n\"Discogs artist ID\"],\n [{\n            'v': 544,\n            'f': \"544\",\n        },\n\"P4903\",\n{\n            'v': 1,\n            'f': \"1\",\n        },\n\"New Georgia Encyclopedia ID\"],\n [{\n            'v': 545,\n            'f': \"545\",\n        },\n\"P5618\",\n{\n            'v': 1,\n            'f': \"1\",\n        },\n\"LOA ID\"],\n [{\n            'v': 546,\n            'f': \"546\",\n        },\n\"P61\",\n{\n            'v': 1,\n            'f': \"1\",\n        },\n\"discoverer or inventor\"],\n [{\n            'v': 547,\n            'f': \"547\",\n        },\n\"P1448\",\n{\n            'v': 1,\n            'f': \"1\",\n        },\n\"official name\"],\n [{\n            'v': 548,\n            'f': \"548\",\n        },\n\"P3560\",\n{\n            'v': 1,\n            'f': \"1\",\n        },\n\"College Football Data Warehouse ID\"],\n [{\n            'v': 549,\n            'f': \"549\",\n        },\n\"P6804\",\n{\n            'v': 1,\n            'f': \"1\",\n        },\n\"Art Gallery of South Australia creator ID\"],\n [{\n            'v': 550,\n            'f': \"550\",\n        },\n\"P4872\",\n{\n            'v': 1,\n            'f': \"1\",\n        },\n\"GEPRIS person ID\"],\n [{\n            'v': 551,\n            'f': \"551\",\n        },\n\"P1829\",\n{\n            'v': 1,\n            'f': \"1\",\n        },\n\"Roud Folk Song Index number\"],\n [{\n            'v': 552,\n            'f': \"552\",\n        },\n\"P6010\",\n{\n            'v': 1,\n            'f': \"1\",\n        },\n\"Encyclopedia of Alabama ID\"],\n [{\n            'v': 553,\n            'f': \"553\",\n        },\n\"P2561\",\n{\n            'v': 1,\n            'f': \"1\",\n        },\n\"name\"],\n [{\n            'v': 554,\n            'f': \"554\",\n        },\n\"P3411\",\n{\n            'v': 1,\n            'f': \"1\",\n        },\n\"Saxon Academy of Sciences member ID\"],\n [{\n            'v': 555,\n            'f': \"555\",\n        },\n\"P2047\",\n{\n            'v': 1,\n            'f': \"1\",\n        },\n\"duration\"],\n [{\n            'v': 556,\n            'f': \"556\",\n        },\n\"P811\",\n{\n            'v': 1,\n            'f': \"1\",\n        },\n\"academic minor\"],\n [{\n            'v': 557,\n            'f': \"557\",\n        },\n\"P2813\",\n{\n            'v': 1,\n            'f': \"1\",\n        },\n\"house publication\"],\n [{\n            'v': 558,\n            'f': \"558\",\n        },\n\"P3827\",\n{\n            'v': 1,\n            'f': \"1\",\n        },\n\"JSTOR topic ID\"],\n [{\n            'v': 559,\n            'f': \"559\",\n        },\n\"P8953\",\n{\n            'v': 1,\n            'f': \"1\",\n        },\n\"Students of Prague Universities ID\"],\n [{\n            'v': 560,\n            'f': \"560\",\n        },\n\"P3269\",\n{\n            'v': 1,\n            'f': \"1\",\n        },\n\"Fotografen.nl ID\"],\n [{\n            'v': 561,\n            'f': \"561\",\n        },\n\"P1303\",\n{\n            'v': 1,\n            'f': \"1\",\n        },\n\"instrument\"],\n [{\n            'v': 562,\n            'f': \"562\",\n        },\n\"P6925\",\n{\n            'v': 1,\n            'f': \"1\",\n        },\n\"Musicalics composer ID\"],\n [{\n            'v': 563,\n            'f': \"563\",\n        },\n\"P6812\",\n{\n            'v': 1,\n            'f': \"1\",\n        },\n\"AntWiki article ID\"],\n [{\n            'v': 564,\n            'f': \"564\",\n        },\n\"P3919\",\n{\n            'v': 1,\n            'f': \"1\",\n        },\n\"contributed to creative work\"],\n [{\n            'v': 565,\n            'f': \"565\",\n        },\n\"P393\",\n{\n            'v': 1,\n            'f': \"1\",\n        },\n\"edition number\"],\n [{\n            'v': 566,\n            'f': \"566\",\n        },\n\"P8341\",\n{\n            'v': 1,\n            'f': \"1\",\n        },\n\"Dansk Biografisk Leksikon ID\"],\n [{\n            'v': 567,\n            'f': \"567\",\n        },\n\"P6784\",\n{\n            'v': 1,\n            'f': \"1\",\n        },\n\"Harper's author ID\"],\n [{\n            'v': 568,\n            'f': \"568\",\n        },\n\"P9301\",\n{\n            'v': 1,\n            'f': \"1\",\n        },\n\"National Gallery of Art Library Bibliographic ID\"],\n [{\n            'v': 569,\n            'f': \"569\",\n        },\n\"P488\",\n{\n            'v': 1,\n            'f': \"1\",\n        },\n\"chairperson\"],\n [{\n            'v': 570,\n            'f': \"570\",\n        },\n\"P1225\",\n{\n            'v': 1,\n            'f': \"1\",\n        },\n\"U.S. National Archives Identifier\"],\n [{\n            'v': 571,\n            'f': \"571\",\n        },\n\"P5450\",\n{\n            'v': 1,\n            'f': \"1\",\n        },\n\"Biographisches Archiv der Psychiatrie  ID\"],\n [{\n            'v': 572,\n            'f': \"572\",\n        },\n\"P6284\",\n{\n            'v': 1,\n            'f': \"1\",\n        },\n\"NCpedia ID\"],\n [{\n            'v': 573,\n            'f': \"573\",\n        },\n\"P9048\",\n{\n            'v': 1,\n            'f': \"1\",\n        },\n\"Biographical Archive of Psychiatry ID\"],\n [{\n            'v': 574,\n            'f': \"574\",\n        },\n\"P9661\",\n{\n            'v': 1,\n            'f': \"1\",\n        },\n\"EBAF authority ID\"],\n [{\n            'v': 575,\n            'f': \"575\",\n        },\n\"P6424\",\n{\n            'v': 1,\n            'f': \"1\",\n        },\n\"affiliation string\"],\n [{\n            'v': 576,\n            'f': \"576\",\n        },\n\"P1319\",\n{\n            'v': 1,\n            'f': \"1\",\n        },\n\"earliest date\"],\n [{\n            'v': 577,\n            'f': \"577\",\n        },\n\"P828\",\n{\n            'v': 1,\n            'f': \"1\",\n        },\n\"has cause\"],\n [{\n            'v': 578,\n            'f': \"578\",\n        },\n\"P3360\",\n{\n            'v': 1,\n            'f': \"1\",\n        },\n\"Nobel Prize People Nomination ID\"],\n [{\n            'v': 579,\n            'f': \"579\",\n        },\n\"P6734\",\n{\n            'v': 1,\n            'f': \"1\",\n        },\n\"Archaeology Data Service person ID\"],\n [{\n            'v': 580,\n            'f': \"580\",\n        },\n\"P945\",\n{\n            'v': 1,\n            'f': \"1\",\n        },\n\"allegiance\"],\n [{\n            'v': 581,\n            'f': \"581\",\n        },\n\"P7779\",\n{\n            'v': 1,\n            'f': \"1\",\n        },\n\"member of military unit\"],\n [{\n            'v': 582,\n            'f': \"582\",\n        },\n\"P8446\",\n{\n            'v': 1,\n            'f': \"1\",\n        },\n\"Gateway to Research person ID\"],\n [{\n            'v': 583,\n            'f': \"583\",\n        },\n\"P2332\",\n{\n            'v': 1,\n            'f': \"1\",\n        },\n\"Dictionary of Art Historians ID\"],\n [{\n            'v': 584,\n            'f': \"584\",\n        },\n\"P3372\",\n{\n            'v': 1,\n            'f': \"1\",\n        },\n\"Auckland Art Gallery artist ID\"],\n [{\n            'v': 585,\n            'f': \"585\",\n        },\n\"P4602\",\n{\n            'v': 1,\n            'f': \"1\",\n        },\n\"date of burial or cremation\"],\n [{\n            'v': 586,\n            'f': \"586\",\n        },\n\"P10033\",\n{\n            'v': 1,\n            'f': \"1\",\n        },\n\"Biografija.ru ID\"],\n [{\n            'v': 587,\n            'f': \"587\",\n        },\n\"P2558\",\n{\n            'v': 1,\n            'f': \"1\",\n        },\n\"autores.uy ID\"],\n [{\n            'v': 588,\n            'f': \"588\",\n        },\n\"P4159\",\n{\n            'v': 1,\n            'f': \"1\",\n        },\n\"WeRelate person ID\"],\n [{\n            'v': 589,\n            'f': \"589\",\n        },\n\"P7944\",\n{\n            'v': 1,\n            'f': \"1\",\n        },\n\"DoME artist ID\"],\n [{\n            'v': 590,\n            'f': \"590\",\n        },\n\"P5909\",\n{\n            'v': 1,\n            'f': \"1\",\n        },\n\"HKCAN ID\"],\n [{\n            'v': 591,\n            'f': \"591\",\n        },\n\"P8696\",\n{\n            'v': 1,\n            'f': \"1\",\n        },\n\"Directory of Belgian Photographers ID\"],\n [{\n            'v': 592,\n            'f': \"592\",\n        },\n\"P451\",\n{\n            'v': 1,\n            'f': \"1\",\n        },\n\"unmarried partner\"],\n [{\n            'v': 593,\n            'f': \"593\",\n        },\n\"P138\",\n{\n            'v': 1,\n            'f': \"1\",\n        },\n\"named after\"],\n [{\n            'v': 594,\n            'f': \"594\",\n        },\n\"P10012\",\n{\n            'v': 1,\n            'f': \"1\",\n        },\n\"NSW Parliament member ID\"],\n [{\n            'v': 595,\n            'f': \"595\",\n        },\n\"P1399\",\n{\n            'v': 1,\n            'f': \"1\",\n        },\n\"convicted of\"],\n [{\n            'v': 596,\n            'f': \"596\",\n        },\n\"P3629\",\n{\n            'v': 1,\n            'f': \"1\",\n        },\n\"age at event\"],\n [{\n            'v': 597,\n            'f': \"597\",\n        },\n\"P3415\",\n{\n            'v': 1,\n            'f': \"1\",\n        },\n\"start period\"],\n [{\n            'v': 598,\n            'f': \"598\",\n        },\n\"P9778\",\n{\n            'v': 1,\n            'f': \"1\",\n        },\n\"Looted Cultural Assets Database ID\"],\n [{\n            'v': 599,\n            'f': \"599\",\n        },\n\"P2252\",\n{\n            'v': 1,\n            'f': \"1\",\n        },\n\"National Gallery of Art artist ID\"],\n [{\n            'v': 600,\n            'f': \"600\",\n        },\n\"P2042\",\n{\n            'v': 1,\n            'f': \"1\",\n        },\n\"Artsy artist ID\"],\n [{\n            'v': 601,\n            'f': \"601\",\n        },\n\"P5368\",\n{\n            'v': 1,\n            'f': \"1\",\n        },\n\"National Gallery of Canada artist ID\"],\n [{\n            'v': 602,\n            'f': \"602\",\n        },\n\"P3634\",\n{\n            'v': 1,\n            'f': \"1\",\n        },\n\"The Met object ID\"],\n [{\n            'v': 603,\n            'f': \"603\",\n        },\n\"P3603\",\n{\n            'v': 1,\n            'f': \"1\",\n        },\n\"Minneapolis Institute of Art constituent ID\"],\n [{\n            'v': 604,\n            'f': \"604\",\n        },\n\"P6764\",\n{\n            'v': 1,\n            'f': \"1\",\n        },\n\"V&A person ID\"],\n [{\n            'v': 605,\n            'f': \"605\",\n        },\n\"P4936\",\n{\n            'v': 1,\n            'f': \"1\",\n        },\n\"SFMOMA artist ID\"],\n [{\n            'v': 606,\n            'f': \"606\",\n        },\n\"P10069\",\n{\n            'v': 1,\n            'f': \"1\",\n        },\n\"Tabakalera ID\"],\n [{\n            'v': 607,\n            'f': \"607\",\n        },\n\"P1114\",\n{\n            'v': 1,\n            'f': \"1\",\n        },\n\"quantity\"],\n [{\n            'v': 608,\n            'f': \"608\",\n        },\n\"P9756\",\n{\n            'v': 1,\n            'f': \"1\",\n        },\n\"Schoenberg Database of Manuscripts name ID\"],\n [{\n            'v': 609,\n            'f': \"609\",\n        },\n\"P366\",\n{\n            'v': 1,\n            'f': \"1\",\n        },\n\"has use\"],\n [{\n            'v': 610,\n            'f': \"610\",\n        },\n\"P1028\",\n{\n            'v': 1,\n            'f': \"1\",\n        },\n\"donated by\"],\n [{\n            'v': 611,\n            'f': \"611\",\n        },\n\"P2342\",\n{\n            'v': 1,\n            'f': \"1\",\n        },\n\"AGORHA person/institution ID\"],\n [{\n            'v': 612,\n            'f': \"612\",\n        },\n\"P1007\",\n{\n            'v': 1,\n            'f': \"1\",\n        },\n\"Lattes Platform number\"],\n [{\n            'v': 613,\n            'f': \"613\",\n        },\n\"P5745\",\n{\n            'v': 1,\n            'f': \"1\",\n        },\n\"Pacific Coast Architecture Database person ID\"],\n [{\n            'v': 614,\n            'f': \"614\",\n        },\n\"P1581\",\n{\n            'v': 1,\n            'f': \"1\",\n        },\n\"official blog\"]],\n        columns: [[\"number\", \"index\"], [\"string\", \"Property\"], [\"number\", \"n\"], [\"string\", \"Label\"]],\n        columnOptions: [{\"width\": \"1px\", \"className\": \"index_column\"}],\n        rowsPerPage: 25,\n        helpUrl: \"https://colab.research.google.com/notebooks/data_table.ipynb\",\n        suppressOutputScrolling: true,\n        minimumWidth: undefined,\n      });\n    ",
            "text/html": [
              "\n",
              "  <div id=\"df-b0b98092-7122-4417-8b68-97dcf7b2e450\">\n",
              "    <div class=\"colab-df-container\">\n",
              "      <div>\n",
              "<style scoped>\n",
              "    .dataframe tbody tr th:only-of-type {\n",
              "        vertical-align: middle;\n",
              "    }\n",
              "\n",
              "    .dataframe tbody tr th {\n",
              "        vertical-align: top;\n",
              "    }\n",
              "\n",
              "    .dataframe thead th {\n",
              "        text-align: right;\n",
              "    }\n",
              "</style>\n",
              "<table border=\"1\" class=\"dataframe\">\n",
              "  <thead>\n",
              "    <tr style=\"text-align: right;\">\n",
              "      <th></th>\n",
              "      <th>Property</th>\n",
              "      <th>n</th>\n",
              "      <th>Label</th>\n",
              "    </tr>\n",
              "  </thead>\n",
              "  <tbody>\n",
              "    <tr>\n",
              "      <th>0</th>\n",
              "      <td>P813</td>\n",
              "      <td>21473</td>\n",
              "      <td>retrieved</td>\n",
              "    </tr>\n",
              "    <tr>\n",
              "      <th>1</th>\n",
              "      <td>P248</td>\n",
              "      <td>13040</td>\n",
              "      <td>stated in</td>\n",
              "    </tr>\n",
              "    <tr>\n",
              "      <th>2</th>\n",
              "      <td>P854</td>\n",
              "      <td>11190</td>\n",
              "      <td>reference URL</td>\n",
              "    </tr>\n",
              "    <tr>\n",
              "      <th>3</th>\n",
              "      <td>P106</td>\n",
              "      <td>5091</td>\n",
              "      <td>occupation</td>\n",
              "    </tr>\n",
              "    <tr>\n",
              "      <th>4</th>\n",
              "      <td>P214</td>\n",
              "      <td>3002</td>\n",
              "      <td>VIAF ID</td>\n",
              "    </tr>\n",
              "    <tr>\n",
              "      <th>...</th>\n",
              "      <td>...</td>\n",
              "      <td>...</td>\n",
              "      <td>...</td>\n",
              "    </tr>\n",
              "    <tr>\n",
              "      <th>610</th>\n",
              "      <td>P1028</td>\n",
              "      <td>1</td>\n",
              "      <td>donated by</td>\n",
              "    </tr>\n",
              "    <tr>\n",
              "      <th>611</th>\n",
              "      <td>P2342</td>\n",
              "      <td>1</td>\n",
              "      <td>AGORHA person/institution ID</td>\n",
              "    </tr>\n",
              "    <tr>\n",
              "      <th>612</th>\n",
              "      <td>P1007</td>\n",
              "      <td>1</td>\n",
              "      <td>Lattes Platform number</td>\n",
              "    </tr>\n",
              "    <tr>\n",
              "      <th>613</th>\n",
              "      <td>P5745</td>\n",
              "      <td>1</td>\n",
              "      <td>Pacific Coast Architecture Database person ID</td>\n",
              "    </tr>\n",
              "    <tr>\n",
              "      <th>614</th>\n",
              "      <td>P1581</td>\n",
              "      <td>1</td>\n",
              "      <td>official blog</td>\n",
              "    </tr>\n",
              "  </tbody>\n",
              "</table>\n",
              "<p>615 rows × 3 columns</p>\n",
              "</div>\n",
              "      <button class=\"colab-df-convert\" onclick=\"convertToInteractive('df-b0b98092-7122-4417-8b68-97dcf7b2e450')\"\n",
              "              title=\"Convert this dataframe to an interactive table.\"\n",
              "              style=\"display:none;\">\n",
              "        \n",
              "  <svg xmlns=\"http://www.w3.org/2000/svg\" height=\"24px\"viewBox=\"0 0 24 24\"\n",
              "       width=\"24px\">\n",
              "    <path d=\"M0 0h24v24H0V0z\" fill=\"none\"/>\n",
              "    <path d=\"M18.56 5.44l.94 2.06.94-2.06 2.06-.94-2.06-.94-.94-2.06-.94 2.06-2.06.94zm-11 1L8.5 8.5l.94-2.06 2.06-.94-2.06-.94L8.5 2.5l-.94 2.06-2.06.94zm10 10l.94 2.06.94-2.06 2.06-.94-2.06-.94-.94-2.06-.94 2.06-2.06.94z\"/><path d=\"M17.41 7.96l-1.37-1.37c-.4-.4-.92-.59-1.43-.59-.52 0-1.04.2-1.43.59L10.3 9.45l-7.72 7.72c-.78.78-.78 2.05 0 2.83L4 21.41c.39.39.9.59 1.41.59.51 0 1.02-.2 1.41-.59l7.78-7.78 2.81-2.81c.8-.78.8-2.07 0-2.86zM5.41 20L4 18.59l7.72-7.72 1.47 1.35L5.41 20z\"/>\n",
              "  </svg>\n",
              "      </button>\n",
              "      \n",
              "  <style>\n",
              "    .colab-df-container {\n",
              "      display:flex;\n",
              "      flex-wrap:wrap;\n",
              "      gap: 12px;\n",
              "    }\n",
              "\n",
              "    .colab-df-convert {\n",
              "      background-color: #E8F0FE;\n",
              "      border: none;\n",
              "      border-radius: 50%;\n",
              "      cursor: pointer;\n",
              "      display: none;\n",
              "      fill: #1967D2;\n",
              "      height: 32px;\n",
              "      padding: 0 0 0 0;\n",
              "      width: 32px;\n",
              "    }\n",
              "\n",
              "    .colab-df-convert:hover {\n",
              "      background-color: #E2EBFA;\n",
              "      box-shadow: 0px 1px 2px rgba(60, 64, 67, 0.3), 0px 1px 3px 1px rgba(60, 64, 67, 0.15);\n",
              "      fill: #174EA6;\n",
              "    }\n",
              "\n",
              "    [theme=dark] .colab-df-convert {\n",
              "      background-color: #3B4455;\n",
              "      fill: #D2E3FC;\n",
              "    }\n",
              "\n",
              "    [theme=dark] .colab-df-convert:hover {\n",
              "      background-color: #434B5C;\n",
              "      box-shadow: 0px 1px 3px 1px rgba(0, 0, 0, 0.15);\n",
              "      filter: drop-shadow(0px 1px 2px rgba(0, 0, 0, 0.3));\n",
              "      fill: #FFFFFF;\n",
              "    }\n",
              "  </style>\n",
              "\n",
              "      <script>\n",
              "        const buttonEl =\n",
              "          document.querySelector('#df-b0b98092-7122-4417-8b68-97dcf7b2e450 button.colab-df-convert');\n",
              "        buttonEl.style.display =\n",
              "          google.colab.kernel.accessAllowed ? 'block' : 'none';\n",
              "\n",
              "        async function convertToInteractive(key) {\n",
              "          const element = document.querySelector('#df-b0b98092-7122-4417-8b68-97dcf7b2e450');\n",
              "          const dataTable =\n",
              "            await google.colab.kernel.invokeFunction('convertToInteractive',\n",
              "                                                     [key], {});\n",
              "          if (!dataTable) return;\n",
              "\n",
              "          const docLinkHtml = 'Like what you see? Visit the ' +\n",
              "            '<a target=\"_blank\" href=https://colab.research.google.com/notebooks/data_table.ipynb>data table notebook</a>'\n",
              "            + ' to learn more about interactive tables.';\n",
              "          element.innerHTML = '';\n",
              "          dataTable['output_type'] = 'display_data';\n",
              "          await google.colab.output.renderOutput(dataTable, element);\n",
              "          const docLink = document.createElement('div');\n",
              "          docLink.innerHTML = docLinkHtml;\n",
              "          element.appendChild(docLink);\n",
              "        }\n",
              "      </script>\n",
              "    </div>\n",
              "  </div>\n",
              "  "
            ],
            "text/plain": [
              "    Property      n                                          Label\n",
              "0       P813  21473                                      retrieved\n",
              "1       P248  13040                                      stated in\n",
              "2       P854  11190                                  reference URL\n",
              "3       P106   5091                                     occupation\n",
              "4       P214   3002                                        VIAF ID\n",
              "..       ...    ...                                            ...\n",
              "610    P1028      1                                     donated by\n",
              "611    P2342      1                   AGORHA person/institution ID\n",
              "612    P1007      1                         Lattes Platform number\n",
              "613    P5745      1  Pacific Coast Architecture Database person ID\n",
              "614    P1581      1                                  official blog\n",
              "\n",
              "[615 rows x 3 columns]"
            ]
          },
          "metadata": {},
          "execution_count": 87
        }
      ]
    },
    {
      "cell_type": "code",
      "source": [
        "%unload_ext google.colab.data_table"
      ],
      "metadata": {
        "id": "v5aTd-6Atpob"
      },
      "execution_count": 75,
      "outputs": []
    },
    {
      "cell_type": "markdown",
      "source": [
        "write output to csv and download\n"
      ],
      "metadata": {
        "id": "ztqg70Tp5qhE"
      }
    },
    {
      "cell_type": "code",
      "source": [
        "df.to_csv(\"botanical_collectors_properties.csv\")"
      ],
      "metadata": {
        "id": "YrTxkRrr5tBb"
      },
      "execution_count": 88,
      "outputs": []
    },
    {
      "cell_type": "code",
      "source": [
        "from google.colab import files\n",
        "\n",
        "files.download('botanical_collectors_properties.csv')"
      ],
      "metadata": {
        "colab": {
          "base_uri": "https://localhost:8080/",
          "height": 17
        },
        "id": "MhjSTsD252ri",
        "outputId": "f98ca9ba-b79a-4277-8805-4b7dbdee28c3"
      },
      "execution_count": 90,
      "outputs": [
        {
          "output_type": "display_data",
          "data": {
            "application/javascript": [
              "\n",
              "    async function download(id, filename, size) {\n",
              "      if (!google.colab.kernel.accessAllowed) {\n",
              "        return;\n",
              "      }\n",
              "      const div = document.createElement('div');\n",
              "      const label = document.createElement('label');\n",
              "      label.textContent = `Downloading \"${filename}\": `;\n",
              "      div.appendChild(label);\n",
              "      const progress = document.createElement('progress');\n",
              "      progress.max = size;\n",
              "      div.appendChild(progress);\n",
              "      document.body.appendChild(div);\n",
              "\n",
              "      const buffers = [];\n",
              "      let downloaded = 0;\n",
              "\n",
              "      const channel = await google.colab.kernel.comms.open(id);\n",
              "      // Send a message to notify the kernel that we're ready.\n",
              "      channel.send({})\n",
              "\n",
              "      for await (const message of channel.messages) {\n",
              "        // Send a message to notify the kernel that we're ready.\n",
              "        channel.send({})\n",
              "        if (message.buffers) {\n",
              "          for (const buffer of message.buffers) {\n",
              "            buffers.push(buffer);\n",
              "            downloaded += buffer.byteLength;\n",
              "            progress.value = downloaded;\n",
              "          }\n",
              "        }\n",
              "      }\n",
              "      const blob = new Blob(buffers, {type: 'application/binary'});\n",
              "      const a = document.createElement('a');\n",
              "      a.href = window.URL.createObjectURL(blob);\n",
              "      a.download = filename;\n",
              "      div.appendChild(a);\n",
              "      a.click();\n",
              "      div.remove();\n",
              "    }\n",
              "  "
            ],
            "text/plain": [
              "<IPython.core.display.Javascript object>"
            ]
          },
          "metadata": {}
        },
        {
          "output_type": "display_data",
          "data": {
            "application/javascript": [
              "download(\"download_1803a0d4-2f26-4d45-b933-11140c91a441\", \"botanical_collectors_properties.csv\", 20724)"
            ],
            "text/plain": [
              "<IPython.core.display.Javascript object>"
            ]
          },
          "metadata": {}
        }
      ]
    },
    {
      "cell_type": "code",
      "source": [
        ""
      ],
      "metadata": {
        "id": "Cz2cHfxX6HRZ"
      },
      "execution_count": null,
      "outputs": []
    }
  ]
}